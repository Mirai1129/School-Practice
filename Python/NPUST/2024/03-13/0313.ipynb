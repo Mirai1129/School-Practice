{
 "cells": [
  {
   "cell_type": "code",
   "execution_count": 2,
   "id": "initial_id",
   "metadata": {
    "collapsed": true,
    "ExecuteTime": {
     "end_time": "2024-03-13T01:41:30.130599Z",
     "start_time": "2024-03-13T01:41:30.122138Z"
    }
   },
   "outputs": [
    {
     "data": {
      "text/plain": "6.0"
     },
     "execution_count": 2,
     "metadata": {},
     "output_type": "execute_result"
    }
   ],
   "source": [
    "2 * 3.0"
   ]
  },
  {
   "cell_type": "code",
   "outputs": [
    {
     "data": {
      "text/plain": "(2.0, 2.5)"
     },
     "execution_count": 3,
     "metadata": {},
     "output_type": "execute_result"
    }
   ],
   "source": [
    "4 / 2, 5 / 2"
   ],
   "metadata": {
    "collapsed": false,
    "ExecuteTime": {
     "end_time": "2024-03-13T01:41:40.841902Z",
     "start_time": "2024-03-13T01:41:40.837410Z"
    }
   },
   "id": "59a2c356586444a1",
   "execution_count": 3
  },
  {
   "cell_type": "code",
   "outputs": [
    {
     "data": {
      "text/plain": "(2, 1)"
     },
     "execution_count": 5,
     "metadata": {},
     "output_type": "execute_result"
    }
   ],
   "source": [
    "5 // 2, 5 % 2"
   ],
   "metadata": {
    "collapsed": false,
    "ExecuteTime": {
     "end_time": "2024-03-13T01:41:56.922033Z",
     "start_time": "2024-03-13T01:41:56.916608Z"
    }
   },
   "id": "3a83aa468b33d09a",
   "execution_count": 5
  },
  {
   "cell_type": "code",
   "outputs": [
    {
     "data": {
      "text/plain": "(2.0, 1.4)"
     },
     "execution_count": 6,
     "metadata": {},
     "output_type": "execute_result"
    }
   ],
   "source": [
    "4.4 // 2, 3.4 % 2"
   ],
   "metadata": {
    "collapsed": false,
    "ExecuteTime": {
     "end_time": "2024-03-13T01:42:30.741355Z",
     "start_time": "2024-03-13T01:42:30.735192Z"
    }
   },
   "id": "f6814f87bd2b1455",
   "execution_count": 6
  },
  {
   "cell_type": "code",
   "outputs": [
    {
     "data": {
      "text/plain": "(1, 0.5)"
     },
     "execution_count": 7,
     "metadata": {},
     "output_type": "execute_result"
    }
   ],
   "source": [
    "False + 1, True / 2"
   ],
   "metadata": {
    "collapsed": false,
    "ExecuteTime": {
     "end_time": "2024-03-13T01:42:42.754695Z",
     "start_time": "2024-03-13T01:42:42.748035Z"
    }
   },
   "id": "dd964d4023c5c80d",
   "execution_count": 7
  },
  {
   "cell_type": "code",
   "outputs": [
    {
     "ename": "ZeroDivisionError",
     "evalue": "integer modulo by zero",
     "output_type": "error",
     "traceback": [
      "\u001B[1;31m---------------------------------------------------------------------------\u001B[0m",
      "\u001B[1;31mZeroDivisionError\u001B[0m                         Traceback (most recent call last)",
      "Cell \u001B[1;32mIn[8], line 1\u001B[0m\n\u001B[1;32m----> 1\u001B[0m \u001B[38;5;241;43m2\u001B[39;49m\u001B[43m \u001B[49m\u001B[38;5;241;43m%\u001B[39;49m\u001B[43m \u001B[49m\u001B[38;5;241;43m0\u001B[39;49m, \u001B[38;5;241m2\u001B[39m \u001B[38;5;241m/\u001B[39m \u001B[38;5;241m0\u001B[39m\n",
      "\u001B[1;31mZeroDivisionError\u001B[0m: integer modulo by zero"
     ]
    }
   ],
   "source": [
    "2 % 0, 2 / 0"
   ],
   "metadata": {
    "collapsed": false,
    "ExecuteTime": {
     "end_time": "2024-03-13T01:43:05.614817Z",
     "start_time": "2024-03-13T01:43:05.180084Z"
    }
   },
   "id": "9ddb6fdb978ad53a",
   "execution_count": 8
  },
  {
   "cell_type": "code",
   "outputs": [
    {
     "data": {
      "text/plain": "(2.0, 2.0)"
     },
     "execution_count": 9,
     "metadata": {},
     "output_type": "execute_result"
    }
   ],
   "source": [
    "4 ** 0.5, 8 ** (1 / 3)"
   ],
   "metadata": {
    "collapsed": false,
    "ExecuteTime": {
     "end_time": "2024-03-13T01:43:25.727663Z",
     "start_time": "2024-03-13T01:43:25.724230Z"
    }
   },
   "id": "1420ddebfed93857",
   "execution_count": 9
  },
  {
   "cell_type": "code",
   "outputs": [
    {
     "data": {
      "text/plain": "'AB123'"
     },
     "execution_count": 10,
     "metadata": {},
     "output_type": "execute_result"
    }
   ],
   "source": [
    "'AB' + '12' + '3'"
   ],
   "metadata": {
    "collapsed": false,
    "ExecuteTime": {
     "end_time": "2024-03-13T01:43:49.764161Z",
     "start_time": "2024-03-13T01:43:49.757143Z"
    }
   },
   "id": "a67aeada9a4626cb",
   "execution_count": 10
  },
  {
   "cell_type": "code",
   "outputs": [
    {
     "data": {
      "text/plain": "'AbAbAb'"
     },
     "execution_count": 11,
     "metadata": {},
     "output_type": "execute_result"
    }
   ],
   "source": [
    "'Ab' * 3"
   ],
   "metadata": {
    "collapsed": false,
    "ExecuteTime": {
     "end_time": "2024-03-13T01:44:06.090551Z",
     "start_time": "2024-03-13T01:44:06.086331Z"
    }
   },
   "id": "4bfab833c271a04d",
   "execution_count": 11
  },
  {
   "cell_type": "code",
   "outputs": [
    {
     "name": "stdout",
     "output_type": "stream",
     "text": [
      "您的有效運動心跳率為：141.39999999999998\n"
     ]
    }
   ],
   "source": [
    "age = int(input('age:'))\n",
    "\n",
    "heart_rate = (220 - age) * 0.7\n",
    "\n",
    "print(f\"您的有效運動心跳率為：{str(heart_rate)}\")"
   ],
   "metadata": {
    "collapsed": false,
    "ExecuteTime": {
     "end_time": "2024-03-13T01:52:12.869764Z",
     "start_time": "2024-03-13T01:52:08.704422Z"
    }
   },
   "id": "6d95f98ce418e11b",
   "execution_count": 12
  },
  {
   "cell_type": "code",
   "outputs": [
    {
     "name": "stdout",
     "output_type": "stream",
     "text": [
      "您的吸氧量為：141.39999999999998\n"
     ]
    }
   ],
   "source": [
    "length = int(input('length:'))\n",
    "\n",
    "oxygen_rate = (length - 504.9) / 44.73\n",
    "\n",
    "print(f\"您的吸氧量為：{str(heart_rate)}\")"
   ],
   "metadata": {
    "collapsed": false,
    "ExecuteTime": {
     "end_time": "2024-03-13T01:54:59.042347Z",
     "start_time": "2024-03-13T01:54:56.324147Z"
    }
   },
   "id": "db8048ecae45993a",
   "execution_count": 15
  },
  {
   "cell_type": "code",
   "outputs": [
    {
     "name": "stdout",
     "output_type": "stream",
     "text": [
      "True False\n"
     ]
    }
   ],
   "source": [
    "print(5 >= 5, 5 >= 6)"
   ],
   "metadata": {
    "collapsed": false,
    "ExecuteTime": {
     "end_time": "2024-03-13T01:52:51.649962Z",
     "start_time": "2024-03-13T01:52:51.644217Z"
    }
   },
   "id": "66e02f34805c3927",
   "execution_count": 13
  },
  {
   "cell_type": "code",
   "outputs": [
    {
     "name": "stdout",
     "output_type": "stream",
     "text": [
      "True True\n"
     ]
    }
   ],
   "source": [
    "print(5 == 5, 5 != 6)"
   ],
   "metadata": {
    "collapsed": false,
    "ExecuteTime": {
     "end_time": "2024-03-13T01:53:13.948853Z",
     "start_time": "2024-03-13T01:53:13.943387Z"
    }
   },
   "id": "6f3f4398256dcf1a",
   "execution_count": 14
  },
  {
   "cell_type": "code",
   "outputs": [
    {
     "name": "stdout",
     "output_type": "stream",
     "text": [
      "True False\n"
     ]
    }
   ],
   "source": [
    "print(True == 1, False != 0)"
   ],
   "metadata": {
    "collapsed": false,
    "ExecuteTime": {
     "end_time": "2024-03-13T02:27:07.406101Z",
     "start_time": "2024-03-13T02:27:07.402242Z"
    }
   },
   "id": "ce11f3cbfd619b4",
   "execution_count": 16
  },
  {
   "cell_type": "code",
   "outputs": [
    {
     "data": {
      "text/plain": "True"
     },
     "execution_count": 17,
     "metadata": {},
     "output_type": "execute_result"
    }
   ],
   "source": [
    "\"abc\" == \"abc\""
   ],
   "metadata": {
    "collapsed": false,
    "ExecuteTime": {
     "end_time": "2024-03-13T02:27:21.860493Z",
     "start_time": "2024-03-13T02:27:21.856179Z"
    }
   },
   "id": "bc49319c9f32cffc",
   "execution_count": 17
  },
  {
   "cell_type": "code",
   "outputs": [
    {
     "data": {
      "text/plain": "True"
     },
     "execution_count": 18,
     "metadata": {},
     "output_type": "execute_result"
    }
   ],
   "source": [
    "\"abc\" > \"Abc\""
   ],
   "metadata": {
    "collapsed": false,
    "ExecuteTime": {
     "end_time": "2024-03-13T02:27:34.004537Z",
     "start_time": "2024-03-13T02:27:33.999082Z"
    }
   },
   "id": "5e54bf61c6caa17c",
   "execution_count": 18
  },
  {
   "cell_type": "code",
   "outputs": [
    {
     "data": {
      "text/plain": "True"
     },
     "execution_count": 19,
     "metadata": {},
     "output_type": "execute_result"
    }
   ],
   "source": [
    "\"abc\" < \"b\""
   ],
   "metadata": {
    "collapsed": false,
    "ExecuteTime": {
     "end_time": "2024-03-13T02:27:44.558628Z",
     "start_time": "2024-03-13T02:27:44.553002Z"
    }
   },
   "id": "9240247e359b2182",
   "execution_count": 19
  },
  {
   "cell_type": "code",
   "outputs": [
    {
     "data": {
      "text/plain": "True"
     },
     "execution_count": 20,
     "metadata": {},
     "output_type": "execute_result"
    }
   ],
   "source": [
    "\"abc\" < \"abcd\""
   ],
   "metadata": {
    "collapsed": false,
    "ExecuteTime": {
     "end_time": "2024-03-13T02:27:53.276215Z",
     "start_time": "2024-03-13T02:27:53.270296Z"
    }
   },
   "id": "ab0d997bce8ba76d",
   "execution_count": 20
  },
  {
   "cell_type": "code",
   "outputs": [
    {
     "data": {
      "text/plain": "True"
     },
     "execution_count": 21,
     "metadata": {},
     "output_type": "execute_result"
    }
   ],
   "source": [
    "\"Eng\" < \"中文\""
   ],
   "metadata": {
    "collapsed": false,
    "ExecuteTime": {
     "end_time": "2024-03-13T02:28:02.129831Z",
     "start_time": "2024-03-13T02:28:02.123985Z"
    }
   },
   "id": "e513a2325fa50e0f",
   "execution_count": 21
  },
  {
   "cell_type": "code",
   "outputs": [
    {
     "data": {
      "text/plain": "False"
     },
     "execution_count": 22,
     "metadata": {},
     "output_type": "execute_result"
    }
   ],
   "source": [
    "not 5 > 4"
   ],
   "metadata": {
    "collapsed": false,
    "ExecuteTime": {
     "end_time": "2024-03-13T02:28:28.211251Z",
     "start_time": "2024-03-13T02:28:28.204255Z"
    }
   },
   "id": "f8336ae561b9d136",
   "execution_count": 22
  },
  {
   "cell_type": "code",
   "outputs": [
    {
     "data": {
      "text/plain": "False"
     },
     "execution_count": 23,
     "metadata": {},
     "output_type": "execute_result"
    }
   ],
   "source": [
    "(5 > 4 and 4 < 3\n",
    " )"
   ],
   "metadata": {
    "collapsed": false,
    "ExecuteTime": {
     "end_time": "2024-03-13T02:28:49.419815Z",
     "start_time": "2024-03-13T02:28:49.414255Z"
    }
   },
   "id": "26b602df152e9ed6",
   "execution_count": 23
  },
  {
   "cell_type": "code",
   "outputs": [
    {
     "data": {
      "text/plain": "True"
     },
     "execution_count": 24,
     "metadata": {},
     "output_type": "execute_result"
    }
   ],
   "source": [
    "(5 > 4 or 4 < 3)"
   ],
   "metadata": {
    "collapsed": false,
    "ExecuteTime": {
     "end_time": "2024-03-13T02:29:06.264876Z",
     "start_time": "2024-03-13T02:29:06.258569Z"
    }
   },
   "id": "6a7f6d3c5a85ecea",
   "execution_count": 24
  },
  {
   "cell_type": "code",
   "outputs": [
    {
     "data": {
      "text/plain": "3"
     },
     "execution_count": 25,
     "metadata": {},
     "output_type": "execute_result"
    }
   ],
   "source": [
    "3 or 2"
   ],
   "metadata": {
    "collapsed": false,
    "ExecuteTime": {
     "end_time": "2024-03-13T02:29:13.163687Z",
     "start_time": "2024-03-13T02:29:13.156211Z"
    }
   },
   "id": "c299767b45ae034f",
   "execution_count": 25
  },
  {
   "cell_type": "code",
   "outputs": [
    {
     "data": {
      "text/plain": "2"
     },
     "execution_count": 26,
     "metadata": {},
     "output_type": "execute_result"
    }
   ],
   "source": [
    "1 and 2"
   ],
   "metadata": {
    "collapsed": false,
    "ExecuteTime": {
     "end_time": "2024-03-13T02:29:19.618110Z",
     "start_time": "2024-03-13T02:29:19.611640Z"
    }
   },
   "id": "dfc1d1f1a9cfeaae",
   "execution_count": 26
  },
  {
   "cell_type": "code",
   "outputs": [
    {
     "data": {
      "text/plain": "0"
     },
     "execution_count": 27,
     "metadata": {},
     "output_type": "execute_result"
    }
   ],
   "source": [
    "0 and 2"
   ],
   "metadata": {
    "collapsed": false,
    "ExecuteTime": {
     "end_time": "2024-03-13T02:29:23.637375Z",
     "start_time": "2024-03-13T02:29:23.632369Z"
    }
   },
   "id": "bf7c288bc215714f",
   "execution_count": 27
  },
  {
   "cell_type": "code",
   "outputs": [
    {
     "data": {
      "text/plain": "2"
     },
     "execution_count": 28,
     "metadata": {},
     "output_type": "execute_result"
    }
   ],
   "source": [
    "0 or 2"
   ],
   "metadata": {
    "collapsed": false,
    "ExecuteTime": {
     "end_time": "2024-03-13T02:29:28.368653Z",
     "start_time": "2024-03-13T02:29:28.361404Z"
    }
   },
   "id": "748f8a06c6d72ef6",
   "execution_count": 28
  },
  {
   "cell_type": "code",
   "outputs": [],
   "source": [
    "a = 4"
   ],
   "metadata": {
    "collapsed": false,
    "ExecuteTime": {
     "end_time": "2024-03-13T02:29:36.840699Z",
     "start_time": "2024-03-13T02:29:36.837221Z"
    }
   },
   "id": "9ed6157548ae5c5e",
   "execution_count": 29
  },
  {
   "cell_type": "code",
   "outputs": [
    {
     "data": {
      "text/plain": "True"
     },
     "execution_count": 30,
     "metadata": {},
     "output_type": "execute_result"
    }
   ],
   "source": [
    "3 < a < 6"
   ],
   "metadata": {
    "collapsed": false,
    "ExecuteTime": {
     "end_time": "2024-03-13T02:29:46.829605Z",
     "start_time": "2024-03-13T02:29:46.824505Z"
    }
   },
   "id": "caa17c43b1f4b5f5",
   "execution_count": 30
  },
  {
   "cell_type": "code",
   "outputs": [
    {
     "data": {
      "text/plain": "True"
     },
     "execution_count": 32,
     "metadata": {},
     "output_type": "execute_result"
    }
   ],
   "source": [
    "3 < a and a < 6  # 3 < a < 6"
   ],
   "metadata": {
    "collapsed": false,
    "ExecuteTime": {
     "end_time": "2024-03-13T02:30:24.283620Z",
     "start_time": "2024-03-13T02:30:24.279055Z"
    }
   },
   "id": "4a647e301ab7b469",
   "execution_count": 32
  },
  {
   "cell_type": "code",
   "outputs": [
    {
     "data": {
      "text/plain": "True"
     },
     "execution_count": 33,
     "metadata": {},
     "output_type": "execute_result"
    }
   ],
   "source": [
    "3 < a < 6 > (a + 1)"
   ],
   "metadata": {
    "collapsed": false,
    "ExecuteTime": {
     "end_time": "2024-03-13T02:30:41.691012Z",
     "start_time": "2024-03-13T02:30:41.686071Z"
    }
   },
   "id": "a93b5a47d14ef7eb",
   "execution_count": 33
  },
  {
   "cell_type": "code",
   "outputs": [
    {
     "data": {
      "text/plain": "True"
     },
     "execution_count": 34,
     "metadata": {},
     "output_type": "execute_result"
    }
   ],
   "source": [
    "3 < a and a < 6 and 6 > (a + 1)"
   ],
   "metadata": {
    "collapsed": false,
    "ExecuteTime": {
     "end_time": "2024-03-13T02:31:10.466584Z",
     "start_time": "2024-03-13T02:31:10.460858Z"
    }
   },
   "id": "290a7f179a0c8781",
   "execution_count": 34
  },
  {
   "cell_type": "code",
   "outputs": [
    {
     "name": "stdout",
     "output_type": "stream",
     "text": [
      "login success? True\n"
     ]
    }
   ],
   "source": [
    "account = input(\"account:\")\n",
    "password = input(\"password:\")\n",
    "success = account == \"admin\" and password == \"1234\"\n",
    "print(\"login success?\", success)"
   ],
   "metadata": {
    "collapsed": false,
    "ExecuteTime": {
     "end_time": "2024-03-13T02:32:26.773925Z",
     "start_time": "2024-03-13T02:32:20.642080Z"
    }
   },
   "id": "2275279b322f5f1f",
   "execution_count": 35
  },
  {
   "cell_type": "code",
   "outputs": [
    {
     "name": "stdout",
     "output_type": "stream",
     "text": [
      "login success? True\n"
     ]
    }
   ],
   "source": [
    "accounts = {\n",
    "    \"admin\": \"1234\",\n",
    "    \"dog\": \"000\"\n",
    "}\n",
    "\n",
    "account = input(\"account:\")\n",
    "password = input(\"password:\")\n",
    "success = accounts.get(account) == password\n",
    "print(\"login success?\", success)"
   ],
   "metadata": {
    "collapsed": false,
    "ExecuteTime": {
     "end_time": "2024-03-13T02:44:54.918628Z",
     "start_time": "2024-03-13T02:44:50.454903Z"
    }
   },
   "id": "2cfbc49073097ac4",
   "execution_count": 46
  },
  {
   "cell_type": "code",
   "outputs": [],
   "source": [
    "a = 6"
   ],
   "metadata": {
    "collapsed": false,
    "ExecuteTime": {
     "end_time": "2024-03-13T02:34:10.439927Z",
     "start_time": "2024-03-13T02:34:10.437268Z"
    }
   },
   "id": "cab0fba1b38a67f9",
   "execution_count": 38
  },
  {
   "cell_type": "code",
   "outputs": [],
   "source": [
    "a -= 1"
   ],
   "metadata": {
    "collapsed": false,
    "ExecuteTime": {
     "end_time": "2024-03-13T02:34:11.836602Z",
     "start_time": "2024-03-13T02:34:11.832525Z"
    }
   },
   "id": "242511f9a358610",
   "execution_count": 39
  },
  {
   "cell_type": "code",
   "outputs": [
    {
     "data": {
      "text/plain": "2"
     },
     "execution_count": 43,
     "metadata": {},
     "output_type": "execute_result"
    }
   ],
   "source": [
    "ａ"
   ],
   "metadata": {
    "collapsed": false,
    "ExecuteTime": {
     "end_time": "2024-03-13T02:34:39.829875Z",
     "start_time": "2024-03-13T02:34:39.824860Z"
    }
   },
   "id": "6b129657ca690b75",
   "execution_count": 43
  },
  {
   "cell_type": "code",
   "outputs": [],
   "source": [
    "ａ %= 3"
   ],
   "metadata": {
    "collapsed": false,
    "ExecuteTime": {
     "end_time": "2024-03-13T02:34:40.861058Z",
     "start_time": "2024-03-13T02:34:40.856224Z"
    }
   },
   "id": "b4a49a535a4fbf5d",
   "execution_count": 44
  },
  {
   "cell_type": "code",
   "outputs": [
    {
     "data": {
      "text/plain": "2"
     },
     "execution_count": 45,
     "metadata": {},
     "output_type": "execute_result"
    }
   ],
   "source": [
    "ａ"
   ],
   "metadata": {
    "collapsed": false,
    "ExecuteTime": {
     "end_time": "2024-03-13T02:34:49.654916Z",
     "start_time": "2024-03-13T02:34:49.651211Z"
    }
   },
   "id": "65d70ba062549c47",
   "execution_count": 45
  },
  {
   "cell_type": "code",
   "outputs": [
    {
     "name": "stdout",
     "output_type": "stream",
     "text": [
      "Answer ->  0.67\n"
     ]
    }
   ],
   "source": [
    "num1 = float(input(\"被除數：\"))\n",
    "num2 = float(input(\"除數：\"))\n",
    "num3 = int(input(\"小數點後幾位\"))\n",
    "print(\"Answer -> \", round(num1 / num2, num3))"
   ],
   "metadata": {
    "collapsed": false,
    "ExecuteTime": {
     "end_time": "2024-03-13T02:55:06.931775Z",
     "start_time": "2024-03-13T02:55:02.826545Z"
    }
   },
   "id": "89a1192a2898fdbc",
   "execution_count": 48
  },
  {
   "cell_type": "code",
   "outputs": [
    {
     "name": "stdout",
     "output_type": "stream",
     "text": [
      "約定時間為： 12 : 15\n"
     ]
    }
   ],
   "source": [
    "hours = int(input(\"請問現在是幾時：\"))\n",
    "minutes = int(input(\"請問現在是幾分：\"))\n",
    "times = int(input(\"要增加的時間？(分)\"))\n",
    "print(\"約定時間為：\",\n",
    "      hours + (minutes + times) // 60,\n",
    "      \":\", (minutes + times) % 60)"
   ],
   "metadata": {
    "collapsed": false,
    "ExecuteTime": {
     "end_time": "2024-03-13T02:57:47.131312Z",
     "start_time": "2024-03-13T02:57:41.594445Z"
    }
   },
   "id": "7d8eb544b70d891f",
   "execution_count": 50
  }
 ],
 "metadata": {
  "kernelspec": {
   "display_name": "Python 3",
   "language": "python",
   "name": "python3"
  },
  "language_info": {
   "codemirror_mode": {
    "name": "ipython",
    "version": 2
   },
   "file_extension": ".py",
   "mimetype": "text/x-python",
   "name": "python",
   "nbconvert_exporter": "python",
   "pygments_lexer": "ipython2",
   "version": "2.7.6"
  }
 },
 "nbformat": 4,
 "nbformat_minor": 5
}
