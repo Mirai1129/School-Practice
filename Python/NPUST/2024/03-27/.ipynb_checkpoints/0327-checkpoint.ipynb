{
 "cells": [
  {
   "cell_type": "code",
   "execution_count": 1,
   "id": "initial_id",
   "metadata": {
    "collapsed": true,
    "ExecuteTime": {
     "end_time": "2024-03-27T01:27:08.343628Z",
     "start_time": "2024-03-27T01:27:08.333973Z"
    }
   },
   "outputs": [
    {
     "data": {
      "text/plain": "6"
     },
     "execution_count": 1,
     "metadata": {},
     "output_type": "execute_result"
    }
   ],
   "source": [
    "len('string')"
   ]
  },
  {
   "cell_type": "code",
   "outputs": [
    {
     "data": {
      "text/plain": "2"
     },
     "execution_count": 2,
     "metadata": {},
     "output_type": "execute_result"
    }
   ],
   "source": [
    "len(['string', 'statement'])"
   ],
   "metadata": {
    "collapsed": false,
    "ExecuteTime": {
     "end_time": "2024-03-27T01:27:30.479933Z",
     "start_time": "2024-03-27T01:27:30.473305Z"
    }
   },
   "id": "a7901c9ba5b457b",
   "execution_count": 2
  },
  {
   "cell_type": "code",
   "outputs": [
    {
     "data": {
      "text/plain": "3"
     },
     "execution_count": 3,
     "metadata": {},
     "output_type": "execute_result"
    }
   ],
   "source": [
    "len({1: 'abc', 2: 'def', 3: '123'})"
   ],
   "metadata": {
    "collapsed": false,
    "ExecuteTime": {
     "end_time": "2024-03-27T01:28:15.189337Z",
     "start_time": "2024-03-27T01:28:15.179748Z"
    }
   },
   "id": "396996d310202f09",
   "execution_count": 3
  },
  {
   "cell_type": "code",
   "outputs": [],
   "source": [
    "a = [0, 3, 1, 2]"
   ],
   "metadata": {
    "collapsed": false,
    "ExecuteTime": {
     "end_time": "2024-03-27T01:28:39.174166Z",
     "start_time": "2024-03-27T01:28:39.167165Z"
    }
   },
   "id": "d691d4c38a145e7c",
   "execution_count": 4
  },
  {
   "cell_type": "code",
   "outputs": [
    {
     "data": {
      "text/plain": "(3, 0, 1.5)"
     },
     "execution_count": 5,
     "metadata": {},
     "output_type": "execute_result"
    }
   ],
   "source": [
    "max(a), min(a), sum(a) / len(a)"
   ],
   "metadata": {
    "collapsed": false,
    "ExecuteTime": {
     "end_time": "2024-03-27T01:29:03.371840Z",
     "start_time": "2024-03-27T01:29:03.364169Z"
    }
   },
   "id": "4f8efe377c3160a2",
   "execution_count": 5
  },
  {
   "cell_type": "code",
   "outputs": [],
   "source": [
    "d = {1: 4, 2: 5, 3: 6}"
   ],
   "metadata": {
    "collapsed": false,
    "ExecuteTime": {
     "end_time": "2024-03-27T01:29:31.411953Z",
     "start_time": "2024-03-27T01:29:31.407730Z"
    }
   },
   "id": "56bafc36e6362698",
   "execution_count": 6
  },
  {
   "cell_type": "code",
   "outputs": [
    {
     "data": {
      "text/plain": "(3, 1, 6)"
     },
     "execution_count": 7,
     "metadata": {},
     "output_type": "execute_result"
    }
   ],
   "source": [
    "max(d), min(d), sum(d)"
   ],
   "metadata": {
    "collapsed": false,
    "ExecuteTime": {
     "end_time": "2024-03-27T01:29:50.410172Z",
     "start_time": "2024-03-27T01:29:50.399602Z"
    }
   },
   "id": "3ba854be6f8616ef",
   "execution_count": 7
  },
  {
   "cell_type": "code",
   "outputs": [
    {
     "name": "stdout",
     "output_type": "stream",
     "text": [
      "Is this order free shipping? True\n"
     ]
    }
   ],
   "source": [
    "order = input(\"Enter the amount of goods, separated by a comma: \")\n",
    "nums = eval(\"len([\" + order + \"])\")\n",
    "total = eval(\"sum([\" + order + \"])\")\n",
    "ans = total > 299 and nums <= 6\n",
    "print(\"Is this order free shipping?\", ans)"
   ],
   "metadata": {
    "collapsed": false,
    "ExecuteTime": {
     "end_time": "2024-03-27T01:33:59.368733Z",
     "start_time": "2024-03-27T01:33:48.175644Z"
    }
   },
   "id": "795869a6fa8e661c",
   "execution_count": 8
  },
  {
   "cell_type": "markdown",
   "source": [
    "## practice 1"
   ],
   "metadata": {
    "collapsed": false
   },
   "id": "becafbfe55f7cfd8"
  },
  {
   "cell_type": "code",
   "outputs": [
    {
     "name": "stdout",
     "output_type": "stream",
     "text": [
      "The package length must shorter than 150cm.\n",
      "The package weight must lighter than 20kg.\n"
     ]
    }
   ],
   "source": [
    "# 某快遞公司要寄送包裹有以下規定：包裹總重量不得超過20公斤、包裹任一邊長不得超過150公分，\n",
    "# 請寫一個程式，能讓使用者輸入包裹的長、寬、高級各個物品的重量，並判斷此包裹是否能夠寄出。\n",
    "\n",
    "package = input(\"Enter the length, width, height and weight of the package(separated by a comma): \")\n",
    "length, width, height, weight = map(int, package.split(','))\n",
    "if length > 150 or width > 150 or height > 150:\n",
    "    print(\"The package length must shorter than 150cm.\")\n",
    "if weight > 20:\n",
    "    print(\"The package weight must lighter than 20kg.\")\n",
    "if length <= 150 and width <= 150 and height <= 150 and weight <= 20:\n",
    "    print(\"The package is allowed.\")\n"
   ],
   "metadata": {
    "collapsed": false,
    "ExecuteTime": {
     "end_time": "2024-03-27T01:46:17.523855Z",
     "start_time": "2024-03-27T01:46:11.358979Z"
    }
   },
   "id": "508527eeae2d434b",
   "execution_count": 14
  },
  {
   "cell_type": "markdown",
   "source": [
    "## practice 2"
   ],
   "metadata": {
    "collapsed": false
   },
   "id": "cc4da9ca28551dd0"
  },
  {
   "cell_type": "code",
   "outputs": [
    {
     "name": "stdout",
     "output_type": "stream",
     "text": [
      "Day1: 50\n",
      "Day2: 70\n",
      "Day3: 90\n"
     ]
    },
    {
     "data": {
      "text/plain": "[None, None, None]"
     },
     "execution_count": 36,
     "metadata": {},
     "output_type": "execute_result"
    }
   ],
   "source": [
    "# 小宇有記帳的習慣，他會把每一餐的花費記錄下來，\n",
    "# 請幫他寫一個程式，能夠分別輸入一天三餐的花費，並將費用從小到大排序好在顯示出來。\n",
    "\n",
    "costs = sorted(map(int, input(\"Enter the cost of three days (separated by a comma): \").split(',')))\n",
    "[print(f\"Day{i+1}: {cost}\") for i, cost in enumerate(costs)]\n"
   ],
   "metadata": {
    "collapsed": false,
    "ExecuteTime": {
     "end_time": "2024-03-27T02:01:36.652667Z",
     "start_time": "2024-03-27T02:01:33.148636Z"
    }
   },
   "id": "a98a10078572bd2d",
   "execution_count": 36
  }
 ],
 "metadata": {
  "kernelspec": {
   "display_name": "Python 3",
   "language": "python",
   "name": "python3"
  },
  "language_info": {
   "codemirror_mode": {
    "name": "ipython",
    "version": 2
   },
   "file_extension": ".py",
   "mimetype": "text/x-python",
   "name": "python",
   "nbconvert_exporter": "python",
   "pygments_lexer": "ipython2",
   "version": "2.7.6"
  }
 },
 "nbformat": 4,
 "nbformat_minor": 5
}
