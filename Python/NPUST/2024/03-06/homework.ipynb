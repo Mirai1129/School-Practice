{
 "cells": [
  {
   "cell_type": "code",
   "execution_count": 2,
   "id": "aa3b7ef749849a60",
   "metadata": {
    "ExecuteTime": {
     "end_time": "2024-03-08T09:32:09.294603Z",
     "start_time": "2024-03-08T09:32:09.290881Z"
    },
    "collapsed": false
   },
   "outputs": [
    {
     "data": {
      "text/plain": [
       "(1.25, float)"
      ]
     },
     "execution_count": 2,
     "metadata": {},
     "output_type": "execute_result"
    }
   ],
   "source": [
    "2.25 - 1, type(2.25 - 1)"
   ]
  },
  {
   "cell_type": "code",
   "execution_count": 8,
   "id": "80815e6a66485208",
   "metadata": {
    "ExecuteTime": {
     "end_time": "2024-03-08T09:33:50.822905Z",
     "start_time": "2024-03-08T09:33:50.817906Z"
    },
    "collapsed": false
   },
   "outputs": [
    {
     "data": {
      "text/plain": [
       "(9.0, float)"
      ]
     },
     "execution_count": 8,
     "metadata": {},
     "output_type": "execute_result"
    }
   ],
   "source": [
    "3.0 * 3, type(3.0 * 3)"
   ]
  },
  {
   "cell_type": "code",
   "execution_count": 9,
   "id": "cedc5eced4446eec",
   "metadata": {
    "ExecuteTime": {
     "end_time": "2024-03-08T09:34:40.275745Z",
     "start_time": "2024-03-08T09:34:40.270507Z"
    },
    "collapsed": false
   },
   "outputs": [
    {
     "data": {
      "text/plain": [
       "(6, int)"
      ]
     },
     "execution_count": 9,
     "metadata": {},
     "output_type": "execute_result"
    }
   ],
   "source": [
    "2 * 3, type(2 * 3)"
   ]
  },
  {
   "cell_type": "code",
   "execution_count": 10,
   "id": "bcbca39f5e9768d9",
   "metadata": {
    "ExecuteTime": {
     "end_time": "2024-03-08T09:34:53.312240Z",
     "start_time": "2024-03-08T09:34:53.306544Z"
    },
    "collapsed": false
   },
   "outputs": [
    {
     "data": {
      "text/plain": [
       "(16.0, float)"
      ]
     },
     "execution_count": 10,
     "metadata": {},
     "output_type": "execute_result"
    }
   ],
   "source": [
    "2.0 ** 4, type(2.0 ** 4)"
   ]
  },
  {
   "cell_type": "code",
   "execution_count": 11,
   "id": "c7395f32bf5f19f4",
   "metadata": {
    "ExecuteTime": {
     "end_time": "2024-03-08T09:35:04.352980Z",
     "start_time": "2024-03-08T09:35:04.343734Z"
    },
    "collapsed": false
   },
   "outputs": [
    {
     "data": {
      "text/plain": [
       "(1.0, float)"
      ]
     },
     "execution_count": 11,
     "metadata": {},
     "output_type": "execute_result"
    }
   ],
   "source": [
    "2 / 2.0, type(2.0 ** 2)"
   ]
  },
  {
   "cell_type": "code",
   "execution_count": 12,
   "id": "1b6e197e53a3cdb1",
   "metadata": {
    "ExecuteTime": {
     "end_time": "2024-03-08T09:35:22.460526Z",
     "start_time": "2024-03-08T09:35:22.455417Z"
    },
    "collapsed": false
   },
   "outputs": [
    {
     "data": {
      "text/plain": [
       "(1.5, float)"
      ]
     },
     "execution_count": 12,
     "metadata": {},
     "output_type": "execute_result"
    }
   ],
   "source": [
    "6 / 4, type(6 / 4)"
   ]
  },
  {
   "cell_type": "code",
   "execution_count": 13,
   "id": "1767ff860cd4ee5a",
   "metadata": {
    "ExecuteTime": {
     "end_time": "2024-03-08T09:35:49.652752Z",
     "start_time": "2024-03-08T09:35:49.647751Z"
    },
    "collapsed": false
   },
   "outputs": [
    {
     "data": {
      "text/plain": [
       "(2, int)"
      ]
     },
     "execution_count": 13,
     "metadata": {},
     "output_type": "execute_result"
    }
   ],
   "source": [
    "6 % 4, type(6 % 4)"
   ]
  },
  {
   "cell_type": "code",
   "execution_count": 14,
   "id": "86e6edd9ba62d4a8",
   "metadata": {
    "ExecuteTime": {
     "end_time": "2024-03-08T09:36:05.065362Z",
     "start_time": "2024-03-08T09:36:05.061009Z"
    },
    "collapsed": false
   },
   "outputs": [
    {
     "data": {
      "text/plain": [
       "(0, int)"
      ]
     },
     "execution_count": 14,
     "metadata": {},
     "output_type": "execute_result"
    }
   ],
   "source": [
    "4 % 2, type(4 % 2)"
   ]
  }
 ],
 "metadata": {
  "kernelspec": {
   "display_name": "Python 3 (ipykernel)",
   "language": "python",
   "name": "python3"
  }
 },
 "nbformat": 4,
 "nbformat_minor": 5
}
