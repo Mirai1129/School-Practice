{
  "cells": [
    {
      "cell_type": "code",
      "execution_count": 9,
      "metadata": {
        "colab": {
          "base_uri": "https://localhost:8080/"
        },
        "id": "Qx2-x52Jukta",
        "outputId": "4e6a4cc0-059f-4a80-b504-c2e3811ba8cc"
      },
      "outputs": [
        {
          "output_type": "stream",
          "name": "stdout",
          "text": [
            "Requirement already satisfied: requests in /usr/local/lib/python3.10/dist-packages (2.31.0)\n",
            "Requirement already satisfied: charset-normalizer<4,>=2 in /usr/local/lib/python3.10/dist-packages (from requests) (3.3.2)\n",
            "Requirement already satisfied: idna<4,>=2.5 in /usr/local/lib/python3.10/dist-packages (from requests) (3.6)\n",
            "Requirement already satisfied: urllib3<3,>=1.21.1 in /usr/local/lib/python3.10/dist-packages (from requests) (2.0.7)\n",
            "Requirement already satisfied: certifi>=2017.4.17 in /usr/local/lib/python3.10/dist-packages (from requests) (2024.2.2)\n"
          ]
        }
      ],
      "source": [
        "#安裝相關函式庫\n",
        "!pip install requests"
      ]
    },
    {
      "cell_type": "code",
      "execution_count": 10,
      "metadata": {
        "id": "ik4lks-CvyhA"
      },
      "outputs": [],
      "source": [
        "import requests\n",
        "from lxml import etree\n"
      ]
    },
    {
      "cell_type": "code",
      "execution_count": 11,
      "metadata": {
        "id": "A7uNjPcyyBnr"
      },
      "outputs": [],
      "source": [
        "#可以從瀏覽器的開發者工具取得 request 的 header 資訊\n",
        "headers_Get = {\n",
        "        'User-Agent': 'Mozilla/5.0 (Macintosh; Intel Mac OS X 10_15_7) AppleWebKit/537.36 (KHTML, like Gecko) Chrome/100.0.4896.75 Safari/537.36',\n",
        "        'Accept': 'text/html,application/xhtml+xml,application/xml;q=0.9,image/avif,image/webp,image/apng,*/*;q=0.8,application/signed-exchange;v=b3;q=0.9',\n",
        "        'Accept-Language': 'zh-TW,zh;q=0.9,en-US;q=0.8,en;q=0.7,zh-CN;q=0.6',\n",
        "        'Accept-Encoding': 'gzip, deflate, br',\n",
        "        'DNT': '1',\n",
        "        'Connection': 'keep-alive',\n",
        "        'Upgrade-Insecure-Requests': '1'\n",
        "    }"
      ]
    },
    {
      "cell_type": "code",
      "execution_count": 12,
      "metadata": {
        "id": "1ypo36eCxHkC"
      },
      "outputs": [],
      "source": [
        "#請求網頁\n",
        "def requestHtml(url):\n",
        "  s = requests.Session()\n",
        "  r = s.get(url, headers=headers_Get)\n",
        "  return etree.HTML(r.text)"
      ]
    },
    {
      "cell_type": "code",
      "execution_count": 13,
      "metadata": {
        "id": "mpf_p7toxk8w"
      },
      "outputs": [],
      "source": [
        "url = 'https://news.google.com/topstories?hl=zh-TW&gl=TW&ceid=TW%3Azh-Hant'\n",
        "dom = requestHtml(url)"
      ]
    },
    {
      "cell_type": "code",
      "execution_count": 14,
      "metadata": {
        "colab": {
          "base_uri": "https://localhost:8080/"
        },
        "id": "zAlGb4P2xoxa",
        "outputId": "2fe2be10-a94a-4071-ce4f-03de28015214"
      },
      "outputs": [
        {
          "output_type": "stream",
          "name": "stdout",
          "text": [
            "<Element html at 0x7e21236d3080>\n"
          ]
        }
      ],
      "source": [
        "print(dom)"
      ]
    },
    {
      "cell_type": "code",
      "execution_count": 19,
      "metadata": {
        "colab": {
          "base_uri": "https://localhost:8080/"
        },
        "id": "uMBeuYKlyphW",
        "outputId": "a9585c9b-8a66-4baf-a7b1-79a7132366f6"
      },
      "outputs": [
        {
          "output_type": "stream",
          "name": "stdout",
          "text": [
            "[]\n"
          ]
        }
      ],
      "source": [
        "\n",
        "#links = dom.xpath('//li[@class=\"browse-recipe-item\"]/a[@class=\"browse-recipe-link\"]/@href')\n",
        "titles = dom.xpath('//*[@id=\"yDmH0d\"]/c-wiz[2]/div/main/div[3]/c-wiz/c-wiz[1]/c-wiz/article/div[1]/div[2]/div/a')\n",
        "print(titles)"
      ]
    }
  ],
  "metadata": {
    "colab": {
      "name": "1.Basic-Requests-Xpath.ipynb",
      "provenance": []
    },
    "kernelspec": {
      "display_name": "Python 3",
      "name": "python3"
    },
    "language_info": {
      "name": "python"
    }
  },
  "nbformat": 4,
  "nbformat_minor": 0
}