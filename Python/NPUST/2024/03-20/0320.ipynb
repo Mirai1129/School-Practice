{
 "cells": [
  {
   "cell_type": "markdown",
   "source": [
    "## list: a container which can store a list of the data"
   ],
   "metadata": {
    "collapsed": false
   },
   "id": "ec83db70c6cae35d"
  },
  {
   "cell_type": "code",
   "execution_count": 1,
   "id": "initial_id",
   "metadata": {
    "collapsed": true,
    "ExecuteTime": {
     "end_time": "2024-03-20T01:26:37.202892Z",
     "start_time": "2024-03-20T01:26:37.196319Z"
    }
   },
   "outputs": [],
   "source": [
    "fruit = ['apple', 'banana', 'guava']"
   ]
  },
  {
   "cell_type": "code",
   "outputs": [
    {
     "data": {
      "text/plain": "('apple', 'guava')"
     },
     "execution_count": 2,
     "metadata": {},
     "output_type": "execute_result"
    }
   ],
   "source": [
    "fruit[0], fruit[2]"
   ],
   "metadata": {
    "collapsed": false,
    "ExecuteTime": {
     "end_time": "2024-03-20T01:26:50.115975Z",
     "start_time": "2024-03-20T01:26:50.098516Z"
    }
   },
   "id": "cc2f2be2183407f1",
   "execution_count": 2
  },
  {
   "cell_type": "code",
   "outputs": [
    {
     "ename": "IndexError",
     "evalue": "list index out of range",
     "output_type": "error",
     "traceback": [
      "\u001B[1;31m---------------------------------------------------------------------------\u001B[0m",
      "\u001B[1;31mIndexError\u001B[0m                                Traceback (most recent call last)",
      "Cell \u001B[1;32mIn[3], line 1\u001B[0m\n\u001B[1;32m----> 1\u001B[0m \u001B[43mfruit\u001B[49m\u001B[43m[\u001B[49m\u001B[38;5;241;43m3\u001B[39;49m\u001B[43m]\u001B[49m\n",
      "\u001B[1;31mIndexError\u001B[0m: list index out of range"
     ]
    }
   ],
   "source": [
    "fruit[3]"
   ],
   "metadata": {
    "collapsed": false,
    "ExecuteTime": {
     "end_time": "2024-03-20T01:27:00.191825Z",
     "start_time": "2024-03-20T01:26:59.297302Z"
    }
   },
   "id": "262eb0458e9c4259",
   "execution_count": 3
  },
  {
   "cell_type": "code",
   "outputs": [],
   "source": [
    "s = list(\"Python hello\")"
   ],
   "metadata": {
    "collapsed": false,
    "ExecuteTime": {
     "end_time": "2024-03-20T01:27:46.813865Z",
     "start_time": "2024-03-20T01:27:46.807226Z"
    }
   },
   "id": "8e8903282c8985f0",
   "execution_count": 4
  },
  {
   "cell_type": "code",
   "outputs": [
    {
     "data": {
      "text/plain": "['P', 'y', 't', 'h', 'o', 'n', ' ', 'h', 'e', 'l', 'l', 'o']"
     },
     "execution_count": 5,
     "metadata": {},
     "output_type": "execute_result"
    }
   ],
   "source": [
    "s"
   ],
   "metadata": {
    "collapsed": false,
    "ExecuteTime": {
     "end_time": "2024-03-20T01:27:51.374804Z",
     "start_time": "2024-03-20T01:27:51.364718Z"
    }
   },
   "id": "6f00ab6e8663a213",
   "execution_count": 5
  },
  {
   "cell_type": "markdown",
   "source": [
    "## list: index"
   ],
   "metadata": {
    "collapsed": false
   },
   "id": "ce965c8151514c4e"
  },
  {
   "cell_type": "code",
   "outputs": [],
   "source": [
    "a = [0, 1, 2]"
   ],
   "metadata": {
    "collapsed": false,
    "ExecuteTime": {
     "end_time": "2024-03-20T01:28:07.465437Z",
     "start_time": "2024-03-20T01:28:07.459948Z"
    }
   },
   "id": "261d412448ffa80",
   "execution_count": 6
  },
  {
   "cell_type": "code",
   "outputs": [
    {
     "data": {
      "text/plain": "2"
     },
     "execution_count": 7,
     "metadata": {},
     "output_type": "execute_result"
    }
   ],
   "source": [
    "a[2]"
   ],
   "metadata": {
    "collapsed": false,
    "ExecuteTime": {
     "end_time": "2024-03-20T01:29:42.320088Z",
     "start_time": "2024-03-20T01:29:42.311563Z"
    }
   },
   "id": "a6608fadb16ac4a",
   "execution_count": 7
  },
  {
   "cell_type": "code",
   "outputs": [],
   "source": [
    "a[2] = 'abc'"
   ],
   "metadata": {
    "collapsed": false,
    "ExecuteTime": {
     "end_time": "2024-03-20T01:29:52.943302Z",
     "start_time": "2024-03-20T01:29:52.936524Z"
    }
   },
   "id": "87950232f9abfe5b",
   "execution_count": 8
  },
  {
   "cell_type": "code",
   "outputs": [
    {
     "data": {
      "text/plain": "'abc'"
     },
     "execution_count": 9,
     "metadata": {},
     "output_type": "execute_result"
    }
   ],
   "source": [
    "a[2]"
   ],
   "metadata": {
    "collapsed": false,
    "ExecuteTime": {
     "end_time": "2024-03-20T01:30:01.271711Z",
     "start_time": "2024-03-20T01:30:01.260854Z"
    }
   },
   "id": "a0e98aadea45e66e",
   "execution_count": 9
  },
  {
   "cell_type": "code",
   "outputs": [
    {
     "data": {
      "text/plain": "'abc'"
     },
     "execution_count": 10,
     "metadata": {},
     "output_type": "execute_result"
    }
   ],
   "source": [
    "a[-1]"
   ],
   "metadata": {
    "collapsed": false,
    "ExecuteTime": {
     "end_time": "2024-03-20T01:30:10.566442Z",
     "start_time": "2024-03-20T01:30:10.556603Z"
    }
   },
   "id": "efd9346b704ae2ff",
   "execution_count": 10
  },
  {
   "cell_type": "code",
   "outputs": [
    {
     "ename": "IndexError",
     "evalue": "list index out of range",
     "output_type": "error",
     "traceback": [
      "\u001B[1;31m---------------------------------------------------------------------------\u001B[0m",
      "\u001B[1;31mIndexError\u001B[0m                                Traceback (most recent call last)",
      "Cell \u001B[1;32mIn[11], line 1\u001B[0m\n\u001B[1;32m----> 1\u001B[0m \u001B[43ma\u001B[49m\u001B[43m[\u001B[49m\u001B[38;5;241;43m-\u001B[39;49m\u001B[38;5;241;43m4\u001B[39;49m\u001B[43m]\u001B[49m\n",
      "\u001B[1;31mIndexError\u001B[0m: list index out of range"
     ]
    }
   ],
   "source": [
    "a[-4]"
   ],
   "metadata": {
    "collapsed": false,
    "ExecuteTime": {
     "end_time": "2024-03-20T01:30:16.470684Z",
     "start_time": "2024-03-20T01:30:16.446514Z"
    }
   },
   "id": "db35d4672f0d82d4",
   "execution_count": 11
  },
  {
   "cell_type": "code",
   "outputs": [
    {
     "name": "stdout",
     "output_type": "stream",
     "text": [
      "[3, 2, 1, 0]\n",
      "3\n",
      "0\n"
     ]
    }
   ],
   "source": [
    "a = [3, 2, 1, 0]\n",
    "\n",
    "print(a)\n",
    "print(a[0])\n",
    "print(a[-1])"
   ],
   "metadata": {
    "collapsed": false,
    "ExecuteTime": {
     "end_time": "2024-03-20T01:30:59.162822Z",
     "start_time": "2024-03-20T01:30:59.157209Z"
    }
   },
   "id": "617eb1722303a457",
   "execution_count": 13
  },
  {
   "cell_type": "markdown",
   "source": [
    "## Edit the elements which is in the list"
   ],
   "metadata": {
    "collapsed": false
   },
   "id": "b7af7b9946378717"
  },
  {
   "cell_type": "code",
   "outputs": [],
   "source": [
    "a = [3, 2, 1, 0]"
   ],
   "metadata": {
    "collapsed": false,
    "ExecuteTime": {
     "end_time": "2024-03-20T01:32:02.014964Z",
     "start_time": "2024-03-20T01:32:02.007447Z"
    }
   },
   "id": "5d2caf0cd19c83e",
   "execution_count": 15
  },
  {
   "cell_type": "code",
   "outputs": [
    {
     "data": {
      "text/plain": "2"
     },
     "execution_count": 16,
     "metadata": {},
     "output_type": "execute_result"
    }
   ],
   "source": [
    "a[1]"
   ],
   "metadata": {
    "collapsed": false,
    "ExecuteTime": {
     "end_time": "2024-03-20T01:32:09.747576Z",
     "start_time": "2024-03-20T01:32:09.737813Z"
    }
   },
   "id": "2ba01a35c4150867",
   "execution_count": 16
  },
  {
   "cell_type": "code",
   "outputs": [],
   "source": [
    "a[1] = 5"
   ],
   "metadata": {
    "collapsed": false,
    "ExecuteTime": {
     "end_time": "2024-03-20T01:32:16.968976Z",
     "start_time": "2024-03-20T01:32:16.961632Z"
    }
   },
   "id": "e8873756498667b2",
   "execution_count": 17
  },
  {
   "cell_type": "code",
   "outputs": [
    {
     "data": {
      "text/plain": "5"
     },
     "execution_count": 18,
     "metadata": {},
     "output_type": "execute_result"
    }
   ],
   "source": [
    "a[1]"
   ],
   "metadata": {
    "collapsed": false,
    "ExecuteTime": {
     "end_time": "2024-03-20T01:32:22.768053Z",
     "start_time": "2024-03-20T01:32:22.761519Z"
    }
   },
   "id": "6a441c2120d754bb",
   "execution_count": 18
  },
  {
   "cell_type": "code",
   "outputs": [],
   "source": [
    "a[2] = 'egg'"
   ],
   "metadata": {
    "collapsed": false,
    "ExecuteTime": {
     "end_time": "2024-03-20T01:32:31.081657Z",
     "start_time": "2024-03-20T01:32:31.076128Z"
    }
   },
   "id": "a89109146fc5db87",
   "execution_count": 19
  },
  {
   "cell_type": "code",
   "outputs": [
    {
     "data": {
      "text/plain": "[3, 5, 'egg', 0]"
     },
     "execution_count": 20,
     "metadata": {},
     "output_type": "execute_result"
    }
   ],
   "source": [
    "a"
   ],
   "metadata": {
    "collapsed": false,
    "ExecuteTime": {
     "end_time": "2024-03-20T01:32:35.189717Z",
     "start_time": "2024-03-20T01:32:35.179299Z"
    }
   },
   "id": "c37944f9576633ae",
   "execution_count": 20
  },
  {
   "cell_type": "markdown",
   "source": [
    "## multiple layers of the container"
   ],
   "metadata": {
    "collapsed": false
   },
   "id": "fad377aaed33b23e"
  },
  {
   "cell_type": "code",
   "outputs": [],
   "source": [
    "fruit = [['apple', 82], ['banana', 45], ['guava', 59]]"
   ],
   "metadata": {
    "collapsed": false,
    "ExecuteTime": {
     "end_time": "2024-03-20T01:33:44.948446Z",
     "start_time": "2024-03-20T01:33:44.941391Z"
    }
   },
   "id": "486ccde86757004f",
   "execution_count": 21
  },
  {
   "cell_type": "code",
   "outputs": [
    {
     "data": {
      "text/plain": "82"
     },
     "execution_count": 22,
     "metadata": {},
     "output_type": "execute_result"
    }
   ],
   "source": [
    "fruit[0][1]"
   ],
   "metadata": {
    "collapsed": false,
    "ExecuteTime": {
     "end_time": "2024-03-20T01:33:52.468865Z",
     "start_time": "2024-03-20T01:33:52.459716Z"
    }
   },
   "id": "b5798e5ff2fcdcc4",
   "execution_count": 22
  },
  {
   "cell_type": "markdown",
   "source": [
    "## multiple layers of container index example"
   ],
   "metadata": {
    "collapsed": false
   },
   "id": "6c7b1ca9dc2b04a4"
  },
  {
   "cell_type": "code",
   "outputs": [],
   "source": [
    "a = [[1, 2], [3, 4], [5, [6, 7]]]"
   ],
   "metadata": {
    "collapsed": false,
    "ExecuteTime": {
     "end_time": "2024-03-20T01:35:28.309434Z",
     "start_time": "2024-03-20T01:35:28.302360Z"
    }
   },
   "id": "f0a66c66652d0288",
   "execution_count": 23
  },
  {
   "cell_type": "code",
   "outputs": [
    {
     "data": {
      "text/plain": "(3, 6)"
     },
     "execution_count": 24,
     "metadata": {},
     "output_type": "execute_result"
    }
   ],
   "source": [
    "a[1][0], a[2][1][0]"
   ],
   "metadata": {
    "collapsed": false,
    "ExecuteTime": {
     "end_time": "2024-03-20T01:36:03.308595Z",
     "start_time": "2024-03-20T01:36:03.298673Z"
    }
   },
   "id": "a2d72ba3df529bb5",
   "execution_count": 24
  },
  {
   "cell_type": "code",
   "outputs": [],
   "source": [
    "a[2][1][1] = 'string'"
   ],
   "metadata": {
    "collapsed": false,
    "ExecuteTime": {
     "end_time": "2024-03-20T01:36:15.822141Z",
     "start_time": "2024-03-20T01:36:15.816107Z"
    }
   },
   "id": "7a5f9dc18156d184",
   "execution_count": 25
  },
  {
   "cell_type": "markdown",
   "source": [
    "## Implementation: rock paper scissor"
   ],
   "metadata": {
    "collapsed": false
   },
   "id": "9aabc569084d40c1"
  },
  {
   "cell_type": "code",
   "outputs": [
    {
     "name": "stdout",
     "output_type": "stream",
     "text": [
      "rock\n"
     ]
    }
   ],
   "source": [
    "game = [['scissor', 'rock', 'paper'],\n",
    "        ['rock', 'paper', 'paper']]\n",
    "print(game[0][1])"
   ],
   "metadata": {
    "collapsed": false,
    "ExecuteTime": {
     "end_time": "2024-03-20T01:40:18.562610Z",
     "start_time": "2024-03-20T01:40:18.552918Z"
    }
   },
   "id": "ecf4ec0871de2ffa",
   "execution_count": 26
  },
  {
   "cell_type": "markdown",
   "source": [
    "## Slicing: phone number last 3 value"
   ],
   "metadata": {
    "collapsed": false
   },
   "id": "6b7511b3605e92c2"
  },
  {
   "cell_type": "code",
   "outputs": [
    {
     "name": "stdout",
     "output_type": "stream",
     "text": [
      "last 3 values: ['7', '8', '9']\n"
     ]
    }
   ],
   "source": [
    "numbers = list(input(\"Enter a number: \"))\n",
    "print(\"last 3 values:\", numbers[-3:])"
   ],
   "metadata": {
    "collapsed": false,
    "ExecuteTime": {
     "end_time": "2024-03-20T01:41:59.167264Z",
     "start_time": "2024-03-20T01:41:53.168175Z"
    }
   },
   "id": "c38fd8a7c2d75e5",
   "execution_count": 27
  },
  {
   "cell_type": "markdown",
   "source": [
    "## tuple: a list cannot be edit"
   ],
   "metadata": {
    "collapsed": false
   },
   "id": "ac209b9e70836df0"
  },
  {
   "cell_type": "code",
   "outputs": [],
   "source": [
    "grade = ('A', 'B', 'C', 'D');\n",
    "order = [0, 1, 2, 3]"
   ],
   "metadata": {
    "collapsed": false,
    "ExecuteTime": {
     "end_time": "2024-03-20T02:03:37.680966Z",
     "start_time": "2024-03-20T02:03:37.673744Z"
    }
   },
   "id": "65897fc51588f612",
   "execution_count": 28
  },
  {
   "cell_type": "code",
   "outputs": [
    {
     "data": {
      "text/plain": "'A'"
     },
     "execution_count": 29,
     "metadata": {},
     "output_type": "execute_result"
    }
   ],
   "source": [
    "grade[0]"
   ],
   "metadata": {
    "collapsed": false,
    "ExecuteTime": {
     "end_time": "2024-03-20T02:03:44.306315Z",
     "start_time": "2024-03-20T02:03:44.296476Z"
    }
   },
   "id": "9e03e9445149d07d",
   "execution_count": 29
  },
  {
   "cell_type": "code",
   "outputs": [],
   "source": [
    "order2 = tuple(order)"
   ],
   "metadata": {
    "collapsed": false,
    "ExecuteTime": {
     "end_time": "2024-03-20T02:03:54.342853Z",
     "start_time": "2024-03-20T02:03:54.336120Z"
    }
   },
   "id": "3c1c335097e86f90",
   "execution_count": 30
  },
  {
   "cell_type": "code",
   "outputs": [
    {
     "data": {
      "text/plain": "(0, 1, 2, 3)"
     },
     "execution_count": 31,
     "metadata": {},
     "output_type": "execute_result"
    }
   ],
   "source": [
    "order2"
   ],
   "metadata": {
    "collapsed": false,
    "ExecuteTime": {
     "end_time": "2024-03-20T02:03:58.900522Z",
     "start_time": "2024-03-20T02:03:58.893004Z"
    }
   },
   "id": "2692fb177375b367",
   "execution_count": 31
  },
  {
   "cell_type": "code",
   "outputs": [
    {
     "data": {
      "text/plain": "[0, 1, 2, 3]"
     },
     "execution_count": 32,
     "metadata": {},
     "output_type": "execute_result"
    }
   ],
   "source": [
    "order"
   ],
   "metadata": {
    "collapsed": false,
    "ExecuteTime": {
     "end_time": "2024-03-20T02:04:02.789082Z",
     "start_time": "2024-03-20T02:04:02.781725Z"
    }
   },
   "id": "2b8161bf09a31af0",
   "execution_count": 32
  },
  {
   "cell_type": "code",
   "outputs": [],
   "source": [
    "a = (1)"
   ],
   "metadata": {
    "collapsed": false,
    "ExecuteTime": {
     "end_time": "2024-03-20T02:04:13.985987Z",
     "start_time": "2024-03-20T02:04:13.979722Z"
    }
   },
   "id": "f1cf02f067d8bfde",
   "execution_count": 33
  },
  {
   "cell_type": "code",
   "outputs": [
    {
     "data": {
      "text/plain": "int"
     },
     "execution_count": 34,
     "metadata": {},
     "output_type": "execute_result"
    }
   ],
   "source": [
    "type(a)"
   ],
   "metadata": {
    "collapsed": false,
    "ExecuteTime": {
     "end_time": "2024-03-20T02:04:22.368197Z",
     "start_time": "2024-03-20T02:04:22.358833Z"
    }
   },
   "id": "139c7d11cd41b697",
   "execution_count": 34
  },
  {
   "cell_type": "code",
   "outputs": [],
   "source": [
    "a = (1,)"
   ],
   "metadata": {
    "collapsed": false,
    "ExecuteTime": {
     "end_time": "2024-03-20T02:04:31.478270Z",
     "start_time": "2024-03-20T02:04:31.472992Z"
    }
   },
   "id": "c4ad44c5da43937d",
   "execution_count": 35
  },
  {
   "cell_type": "code",
   "outputs": [
    {
     "data": {
      "text/plain": "tuple"
     },
     "execution_count": 36,
     "metadata": {},
     "output_type": "execute_result"
    }
   ],
   "source": [
    "type(a)"
   ],
   "metadata": {
    "collapsed": false,
    "ExecuteTime": {
     "end_time": "2024-03-20T02:04:36.572871Z",
     "start_time": "2024-03-20T02:04:36.566397Z"
    }
   },
   "id": "90554cb1383fb3b6",
   "execution_count": 36
  },
  {
   "cell_type": "code",
   "outputs": [],
   "source": [
    "a = 0, 1, 2"
   ],
   "metadata": {
    "collapsed": false,
    "ExecuteTime": {
     "end_time": "2024-03-20T02:05:00.318353Z",
     "start_time": "2024-03-20T02:05:00.312013Z"
    }
   },
   "id": "b173e900b0165598",
   "execution_count": 37
  },
  {
   "cell_type": "code",
   "outputs": [
    {
     "data": {
      "text/plain": "(0, 1, 2)"
     },
     "execution_count": 38,
     "metadata": {},
     "output_type": "execute_result"
    }
   ],
   "source": [
    "a"
   ],
   "metadata": {
    "collapsed": false,
    "ExecuteTime": {
     "end_time": "2024-03-20T02:05:04.504187Z",
     "start_time": "2024-03-20T02:05:04.495043Z"
    }
   },
   "id": "8b66c5da68689c9a",
   "execution_count": 38
  },
  {
   "cell_type": "code",
   "outputs": [],
   "source": [
    "b = 1,"
   ],
   "metadata": {
    "collapsed": false,
    "ExecuteTime": {
     "end_time": "2024-03-20T02:05:19.440634Z",
     "start_time": "2024-03-20T02:05:19.435408Z"
    }
   },
   "id": "cc08e94dac81a950",
   "execution_count": 39
  },
  {
   "cell_type": "code",
   "outputs": [
    {
     "data": {
      "text/plain": "tuple"
     },
     "execution_count": 40,
     "metadata": {},
     "output_type": "execute_result"
    }
   ],
   "source": [
    "type(b)"
   ],
   "metadata": {
    "collapsed": false,
    "ExecuteTime": {
     "end_time": "2024-03-20T02:05:30.056980Z",
     "start_time": "2024-03-20T02:05:30.043876Z"
    }
   },
   "id": "53a749ec746977b8",
   "execution_count": 40
  },
  {
   "cell_type": "code",
   "outputs": [],
   "source": [
    "t = ([0, 1], 2)"
   ],
   "metadata": {
    "collapsed": false,
    "ExecuteTime": {
     "end_time": "2024-03-20T02:05:50.547351Z",
     "start_time": "2024-03-20T02:05:50.541902Z"
    }
   },
   "id": "cfa3dbdee0a86085",
   "execution_count": 41
  },
  {
   "cell_type": "code",
   "outputs": [],
   "source": [
    "t[0][0] = 9"
   ],
   "metadata": {
    "collapsed": false,
    "ExecuteTime": {
     "end_time": "2024-03-20T02:30:36.242580Z",
     "start_time": "2024-03-20T02:30:36.236057Z"
    }
   },
   "id": "9c2e63f676b55e76",
   "execution_count": 42
  },
  {
   "cell_type": "code",
   "outputs": [
    {
     "data": {
      "text/plain": "([9, 1], 2)"
     },
     "execution_count": 43,
     "metadata": {},
     "output_type": "execute_result"
    }
   ],
   "source": [
    "t"
   ],
   "metadata": {
    "collapsed": false,
    "ExecuteTime": {
     "end_time": "2024-03-20T02:30:39.975381Z",
     "start_time": "2024-03-20T02:30:39.964339Z"
    }
   },
   "id": "b959a8d44650fce",
   "execution_count": 43
  },
  {
   "cell_type": "code",
   "outputs": [
    {
     "name": "stdout",
     "output_type": "stream",
     "text": [
      "apple\n",
      "banana\n",
      "pear\n"
     ]
    }
   ],
   "source": [
    "fruit = ['apple', 'banana', 'pear']\n",
    "favorite_fruit = tuple(fruit)\n",
    "for i in range(3):\n",
    "    print(favorite_fruit[i])"
   ],
   "metadata": {
    "collapsed": false,
    "ExecuteTime": {
     "end_time": "2024-03-20T02:31:53.344042Z",
     "start_time": "2024-03-20T02:31:53.333745Z"
    }
   },
   "id": "ce7670b74f87231a",
   "execution_count": 44
  },
  {
   "cell_type": "markdown",
   "source": [
    "## set: a set with a lot of data"
   ],
   "metadata": {
    "collapsed": false
   },
   "id": "bdc74382c1abe224"
  },
  {
   "cell_type": "code",
   "outputs": [],
   "source": [
    "myset = {0, 1, 2, 1};\n",
    "mystr = 'abcd'"
   ],
   "metadata": {
    "collapsed": false,
    "ExecuteTime": {
     "end_time": "2024-03-20T02:33:05.735353Z",
     "start_time": "2024-03-20T02:33:05.727103Z"
    }
   },
   "id": "f9fb5b5e454f33cd",
   "execution_count": 45
  },
  {
   "cell_type": "code",
   "outputs": [
    {
     "data": {
      "text/plain": "{0, 1, 2}"
     },
     "execution_count": 46,
     "metadata": {},
     "output_type": "execute_result"
    }
   ],
   "source": [
    "myset"
   ],
   "metadata": {
    "collapsed": false,
    "ExecuteTime": {
     "end_time": "2024-03-20T02:33:10.055376Z",
     "start_time": "2024-03-20T02:33:10.043922Z"
    }
   },
   "id": "f015e28b39644ccc",
   "execution_count": 46
  },
  {
   "cell_type": "code",
   "outputs": [],
   "source": [
    "newset = set(mystr)"
   ],
   "metadata": {
    "collapsed": false,
    "ExecuteTime": {
     "end_time": "2024-03-20T02:35:28.054786Z",
     "start_time": "2024-03-20T02:35:28.048016Z"
    }
   },
   "id": "612f1e94dc4bb90d",
   "execution_count": 47
  },
  {
   "cell_type": "code",
   "outputs": [
    {
     "data": {
      "text/plain": "{'a', 'b', 'c', 'd'}"
     },
     "execution_count": 48,
     "metadata": {},
     "output_type": "execute_result"
    }
   ],
   "source": [
    "newset"
   ],
   "metadata": {
    "collapsed": false,
    "ExecuteTime": {
     "end_time": "2024-03-20T02:35:32.609173Z",
     "start_time": "2024-03-20T02:35:32.596858Z"
    }
   },
   "id": "1bd1abf0c0c8be38",
   "execution_count": 48
  },
  {
   "cell_type": "code",
   "outputs": [
    {
     "data": {
      "text/plain": "'abcd'"
     },
     "execution_count": 49,
     "metadata": {},
     "output_type": "execute_result"
    }
   ],
   "source": [
    "mystr"
   ],
   "metadata": {
    "collapsed": false,
    "ExecuteTime": {
     "end_time": "2024-03-20T02:35:48.187228Z",
     "start_time": "2024-03-20T02:35:48.177047Z"
    }
   },
   "id": "359a6686d3bf41dc",
   "execution_count": 49
  },
  {
   "cell_type": "code",
   "outputs": [
    {
     "ename": "TypeError",
     "evalue": "unhashable type: 'list'",
     "output_type": "error",
     "traceback": [
      "\u001B[1;31m---------------------------------------------------------------------------\u001B[0m",
      "\u001B[1;31mTypeError\u001B[0m                                 Traceback (most recent call last)",
      "Cell \u001B[1;32mIn[50], line 1\u001B[0m\n\u001B[1;32m----> 1\u001B[0m {[\u001B[38;5;241m1\u001B[39m, \u001B[38;5;241m2\u001B[39m], \u001B[38;5;241m3\u001B[39m, \u001B[38;5;241m4\u001B[39m}\n",
      "\u001B[1;31mTypeError\u001B[0m: unhashable type: 'list'"
     ]
    }
   ],
   "source": [
    "{[1, 2], 3, 4}"
   ],
   "metadata": {
    "collapsed": false,
    "ExecuteTime": {
     "end_time": "2024-03-20T02:37:52.161513Z",
     "start_time": "2024-03-20T02:37:52.041723Z"
    }
   },
   "id": "3ac8c99020a3a852",
   "execution_count": 50
  },
  {
   "cell_type": "code",
   "outputs": [],
   "source": [],
   "metadata": {
    "collapsed": false
   },
   "id": "ea788ee4b23b9446"
  }
 ],
 "metadata": {
  "kernelspec": {
   "display_name": "Python 3",
   "language": "python",
   "name": "python3"
  },
  "language_info": {
   "codemirror_mode": {
    "name": "ipython",
    "version": 2
   },
   "file_extension": ".py",
   "mimetype": "text/x-python",
   "name": "python",
   "nbconvert_exporter": "python",
   "pygments_lexer": "ipython2",
   "version": "2.7.6"
  }
 },
 "nbformat": 4,
 "nbformat_minor": 5
}
