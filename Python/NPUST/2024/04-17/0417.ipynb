{
 "cells": [
  {
   "cell_type": "code",
   "id": "initial_id",
   "metadata": {
    "collapsed": true,
    "ExecuteTime": {
     "end_time": "2024-04-17T01:40:57.762064Z",
     "start_time": "2024-04-17T01:40:56.640577Z"
    }
   },
   "source": [
    "def numerology(num):\n",
    "    ans = ['獨立、積極、領導',  #建立一個性格list\n",
    "           '敏感纖細、懂得成全他人',\n",
    "           '討好人群的開心果',\n",
    "           '平穩、保守、不作怪',\n",
    "           '喜好自由與新奇事物',\n",
    "           '正義、無私、關懷',\n",
    "           '時常思慮、重視心靈',\n",
    "           '外冷内熱',\n",
    "           '天真、喜愛人群、無心機']\n",
    "    a = num // 10  #求出生日除以10商,即十\n",
    "    while a > 0:  #如果十數大於代表出生日是兩位數以上\n",
    "        b = num % 10  #求出生日除1餘,即個\n",
    "        num = a + b  #將十位數和個位數相加,並指定給生日數\n",
    "        a = num // 10\n",
    "    print(\"你的生日數為\" + str(num) +\n",
    "          \",你擁有\" + ans[num - 1] + \"的性格\")\n",
    "\n",
    "\n",
    "num = int(input(\"請問你的出生日為:\"))\n",
    "numerology(num)"
   ],
   "outputs": [
    {
     "name": "stdout",
     "output_type": "stream",
     "text": [
      "你的生日數為1,你擁有獨立、積極、領導的性格\n"
     ]
    }
   ],
   "execution_count": 2
  }
 ],
 "metadata": {
  "kernelspec": {
   "display_name": "Python 3",
   "language": "python",
   "name": "python3"
  },
  "language_info": {
   "codemirror_mode": {
    "name": "ipython",
    "version": 2
   },
   "file_extension": ".py",
   "mimetype": "text/x-python",
   "name": "python",
   "nbconvert_exporter": "python",
   "pygments_lexer": "ipython2",
   "version": "2.7.6"
  }
 },
 "nbformat": 4,
 "nbformat_minor": 5
}
