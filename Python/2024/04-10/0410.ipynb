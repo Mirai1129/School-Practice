{
 "cells": [
  {
   "cell_type": "markdown",
   "source": [
    "# Ch06"
   ],
   "metadata": {
    "collapsed": false
   },
   "id": "73de380fe6e3ece"
  },
  {
   "cell_type": "markdown",
   "source": [
    "## 隨堂練習 - 是否需要補考"
   ],
   "metadata": {
    "collapsed": false
   },
   "id": "bac3ed96fa254d14"
  },
  {
   "cell_type": "code",
   "execution_count": 9,
   "id": "initial_id",
   "metadata": {
    "collapsed": true,
    "ExecuteTime": {
     "end_time": "2024-04-10T01:32:59.416330Z",
     "start_time": "2024-04-10T01:32:56.515623Z"
    }
   },
   "outputs": [
    {
     "name": "stdout",
     "output_type": "stream",
     "text": [
      "你不需要補考\n"
     ]
    }
   ],
   "source": [
    "# 老師跟學生們說，這次的考試如果國英數加起來沒有超過210分，\n",
    "# 就得參加補考，請寫一程式，在輸入國英數的成績後，會自動判斷使用者需不需要補考\n",
    "\n",
    "def is_make_up_exam(*args: float) -> bool:\n",
    "    return sum(args) >= 210\n",
    "\n",
    "\n",
    "if is_make_up_exam(float(input()), float(input()), float(input())):\n",
    "    print(\"你不需要補考\")\n",
    "else:\n",
    "    print(\"你需要補考\")"
   ]
  },
  {
   "cell_type": "markdown",
   "source": [
    "## 隨堂練習 - 三重身分檢測"
   ],
   "metadata": {
    "collapsed": false
   },
   "id": "14c6cced11d8ebe3"
  },
  {
   "cell_type": "code",
   "outputs": [],
   "source": [
    "# 請寫一個程式能做到三重身分檢測，\n",
    "# 第一個是檢查身分證(A123456789)，第二個(0525)，最後輸入密碼(1234)，\n",
    "# 只要檢測到一個不對就會警告使用者。\n",
    "\n",
    "def triple_identify_check(national_id: str) -> bool:\n",
    "    if national_id != \"A123456789\":\n",
    "        print(\"wrong national id\")\n",
    "        return False\n",
    "\n",
    "    birthday = input(\"input your birthday (mmdd): \")\n",
    "    if birthday != \"0525\":\n",
    "        print(\"wrong birthday\")\n",
    "        return False\n",
    "\n",
    "    password = input(\"input your password: \")\n",
    "    if password != \"1234\":\n",
    "        print(\"wrong password\")\n",
    "        return False\n",
    "\n",
    "    print(\"pass check\")\n",
    "    return True\n",
    "\n",
    "# This dirty code need to be refactored"
   ],
   "metadata": {
    "collapsed": false
   },
   "id": "f42874ffadce4b4a"
  },
  {
   "cell_type": "markdown",
   "source": [
    "## 隨堂練習 - 我有沒有獎學金?"
   ],
   "metadata": {
    "collapsed": false
   },
   "id": "121a1ddfa7ef6e63"
  },
  {
   "cell_type": "code",
   "outputs": [
    {
     "name": "stdout",
     "output_type": "stream",
     "text": [
      "Sorry, you are not eligible for the scholarship.\n"
     ]
    }
   ],
   "source": [
    "# 畢業取得獎學金的條件為：比畢業門檻多修10個學分、\n",
    "# 多益英文分數達650、操行成績80分以上，此外成績還得在班上排名前10%。\n",
    "\n",
    "# use event to handle this topic\n",
    "\n",
    "class ScholarshipEvent:\n",
    "    def __init__(self):\n",
    "        self.conditions = []\n",
    "\n",
    "    def add_condition(self, condition):\n",
    "        self.conditions.append(condition)\n",
    "\n",
    "    def check_eligibility(self):\n",
    "        for condition in self.conditions:\n",
    "            if not condition():\n",
    "                return False\n",
    "        print(\"GRADUATE! Can get scholarship\")\n",
    "        return True\n",
    "\n",
    "\n",
    "def check_credits():\n",
    "    total_credits = int(input(\"Input your total credits: \"))\n",
    "    return total_credits >= 138\n",
    "\n",
    "\n",
    "def check_toeic_score():\n",
    "    toeic_score = int(input(\"Input your TOEIC score: \"))\n",
    "    return toeic_score >= 650\n",
    "\n",
    "\n",
    "def check_conduct_issue():\n",
    "    conduct_issue = int(input(\"Input your conduct issue score: \"))\n",
    "    return conduct_issue >= 80\n",
    "\n",
    "\n",
    "def check_rank_in_class():\n",
    "    student_amount = int(input(\"Input the number of students in your class: \"))\n",
    "    rank = int(input(\"Input your rank in class: \"))\n",
    "    return (rank / student_amount) <= 0.1\n",
    "\n",
    "\n",
    "def main():\n",
    "    scholarship_event = ScholarshipEvent()\n",
    "    scholarship_event.add_condition(check_credits)\n",
    "    scholarship_event.add_condition(check_toeic_score)\n",
    "    scholarship_event.add_condition(check_conduct_issue)\n",
    "    scholarship_event.add_condition(check_rank_in_class)\n",
    "\n",
    "    if not scholarship_event.check_eligibility():\n",
    "        print(\"Sorry, you are not eligible for the scholarship.\")\n",
    "\n",
    "\n",
    "if __name__ == \"__main__\":\n",
    "    main()\n",
    "    "
   ],
   "metadata": {
    "collapsed": false,
    "ExecuteTime": {
     "end_time": "2024-04-10T01:57:39.276289Z",
     "start_time": "2024-04-10T01:57:32.726754Z"
    }
   },
   "id": "3c62cc650676ae31",
   "execution_count": 11
  },
  {
   "cell_type": "markdown",
   "source": [
    "## 隨堂練習 - 判斷密碼"
   ],
   "metadata": {
    "collapsed": false
   },
   "id": "23da05e53c1e1299"
  },
  {
   "cell_type": "code",
   "outputs": [
    {
     "name": "stdout",
     "output_type": "stream",
     "text": [
      "第 2 位的密碼錯誤\n",
      "第 3 位的密碼錯誤\n",
      "第 4 位的密碼錯誤\n"
     ]
    }
   ],
   "source": [
    "def check_password(input_password: str):\n",
    "    correct_password = \"1234\"\n",
    "\n",
    "    if input_password == correct_password:\n",
    "        print(\"密碼正確\")\n",
    "    else:\n",
    "        for i in range(len(input_password)):\n",
    "            if i < len(correct_password) and input_password[i] != correct_password[i]:\n",
    "                print(f\"第 {i + 1} 位的密碼錯誤\")\n",
    "\n",
    "        if len(input_password) < len(correct_password):\n",
    "            print(\"密碼太短\")\n",
    "        elif len(input_password) > len(correct_password):\n",
    "            print(\"密碼太長\")\n",
    "\n",
    "check_password(input(\"請輸入密碼：\"))\n"
   ],
   "metadata": {
    "collapsed": false,
    "ExecuteTime": {
     "end_time": "2024-04-10T02:36:08.747708Z",
     "start_time": "2024-04-10T02:36:06.222506Z"
    }
   },
   "id": "921b2a012973c051",
   "execution_count": 20
  },
  {
   "cell_type": "markdown",
   "source": [
    "# ch07"
   ],
   "metadata": {
    "collapsed": false
   },
   "id": "c5a77bf157e95c2e"
  },
  {
   "cell_type": "code",
   "outputs": [
    {
     "name": "stdout",
     "output_type": "stream",
     "text": [
      "1 2 4 6 8 9 10 finish\n"
     ]
    }
   ],
   "source": [
    "def break_continuous_loop():\n",
    "    i = 1\n",
    "    while True:\n",
    "        if i in (3, 5, 7):\n",
    "            i += 1\n",
    "            continue\n",
    "        print(i, end=' ')\n",
    "        if i == 10:\n",
    "            break\n",
    "        i += 1\n",
    "    print(\"finish\")\n",
    "\n",
    "break_continuous_loop()"
   ],
   "metadata": {
    "collapsed": false,
    "ExecuteTime": {
     "end_time": "2024-04-10T03:06:08.200934Z",
     "start_time": "2024-04-10T03:06:08.195752Z"
    }
   },
   "id": "db2a43cb0cd31e8d",
   "execution_count": 25
  },
  {
   "cell_type": "markdown",
   "source": [],
   "metadata": {
    "collapsed": false
   },
   "id": "8fca58e0bde34f0e"
  },
  {
   "cell_type": "code",
   "outputs": [
    {
     "name": "stdout",
     "output_type": "stream",
     "text": [
      "Questionnaire:\n",
      "hi:\n",
      "1. ihih\n",
      "2. ihih2\n",
      "\n",
      "hi2:\n",
      "1. hihi2\n"
     ]
    }
   ],
   "source": [
    "class Questionnaire:\n",
    "    def __init__(self):\n",
    "        self.questions = []\n",
    "        self.options = {}\n",
    "\n",
    "    def add_question(self, question):\n",
    "        self.questions.append(question)\n",
    "        self.options[question] = []\n",
    "\n",
    "    def add_option(self, question, option):\n",
    "        if question in self.questions:\n",
    "            self.options[question].append(option)\n",
    "        else:\n",
    "            print(\"Question not found!\")\n",
    "\n",
    "    def generate_questionnaire(self):\n",
    "        print(\"Questionnaire:\")\n",
    "        for question in self.questions:\n",
    "            print(f\"{question}:\")\n",
    "            for i, option in enumerate(self.options[question], 1):\n",
    "                print(f\"{i}. {option}\")\n",
    "            print()\n",
    "\n",
    "\n",
    "def main():\n",
    "    questionnaire = Questionnaire()\n",
    "\n",
    "    # 提問卷題目\n",
    "    while True:\n",
    "        question = input(\"Enter the question (type 'done' to finish): \")\n",
    "        if question.lower() == 'done':\n",
    "            break\n",
    "        questionnaire.add_question(question)\n",
    "\n",
    "    # 加入問卷選項\n",
    "    for question in questionnaire.questions:\n",
    "        while True:\n",
    "            option = input(f\"Enter an option for '{question}' (type 'done' to finish): \")\n",
    "            if option.lower() == 'done':\n",
    "                break\n",
    "            questionnaire.add_option(question, option)\n",
    "\n",
    "    # 生成問卷格式\n",
    "    questionnaire.generate_questionnaire()\n",
    "\n",
    "\n",
    "if __name__ == \"__main__\":\n",
    "    main()\n"
   ],
   "metadata": {
    "collapsed": false,
    "ExecuteTime": {
     "end_time": "2024-04-10T03:17:30.000443Z",
     "start_time": "2024-04-10T03:17:01.406952Z"
    }
   },
   "id": "74eac93d1a11f9df",
   "execution_count": 26
  },
  {
   "cell_type": "markdown",
   "source": [
    "## 實例2 購物清單生成器"
   ],
   "metadata": {
    "collapsed": false
   },
   "id": "f21ea1d289f1c520"
  },
  {
   "cell_type": "code",
   "outputs": [
    {
     "name": "stdout",
     "output_type": "stream",
     "text": [
      "shopping list:\n",
      "▢ 1\n",
      "▢ 6\n",
      "▢ 8\n",
      "▢ 4\n"
     ]
    }
   ],
   "source": [
    "def shopping_list_generator():\n",
    "    shopping_list = []\n",
    "    while True:\n",
    "        item = input(\"Enter the item (type 'done' to finish): \")\n",
    "        if item == 'done':\n",
    "            break\n",
    "        shopping_list.append(item)\n",
    "    print(\"shopping list:\")\n",
    "    for i in shopping_list:\n",
    "        print(f\"▢ {i}\")\n",
    "\n",
    "shopping_list_generator()"
   ],
   "metadata": {
    "collapsed": false,
    "ExecuteTime": {
     "end_time": "2024-04-10T03:22:13.046456Z",
     "start_time": "2024-04-10T03:22:05.963905Z"
    }
   },
   "id": "cd67e6ba842d3e36",
   "execution_count": 28
  },
  {
   "cell_type": "markdown",
   "source": [
    "## 九九乘法表"
   ],
   "metadata": {
    "collapsed": false
   },
   "id": "48789a66ef02a420"
  },
  {
   "cell_type": "code",
   "outputs": [
    {
     "name": "stdout",
     "output_type": "stream",
     "text": [
      "1x1= 1  1x2= 2  1x3= 3  1x4= 4  1x5= 5  1x6= 6  1x7= 7  1x8= 8  1x9= 9\n",
      "2x1= 2  2x2= 4  2x3= 6  2x4= 8  2x5=10  2x6=12  2x7=14  2x8=16  2x9=18\n",
      "3x1= 3  3x2= 6  3x3= 9  3x4=12  3x5=15  3x6=18  3x7=21  3x8=24  3x9=27\n",
      "4x1= 4  4x2= 8  4x3=12  4x4=16  4x5=20  4x6=24  4x7=28  4x8=32  4x9=36\n",
      "5x1= 5  5x2=10  5x3=15  5x4=20  5x5=25  5x6=30  5x7=35  5x8=40  5x9=45\n",
      "6x1= 6  6x2=12  6x3=18  6x4=24  6x5=30  6x6=36  6x7=42  6x8=48  6x9=54\n",
      "7x1= 7  7x2=14  7x3=21  7x4=28  7x5=35  7x6=42  7x7=49  7x8=56  7x9=63\n",
      "8x1= 8  8x2=16  8x3=24  8x4=32  8x5=40  8x6=48  8x7=56  8x8=64  8x9=72\n",
      "9x1= 9  9x2=18  9x3=27  9x4=36  9x5=45  9x6=54  9x7=63  9x8=72  9x9=81\n"
     ]
    }
   ],
   "source": [
    "multiplication_table = [[f\"{i}x{j}={i*j:2d}\" for j in range(1, 10)] for i in range(1, 10)]\n",
    "\n",
    "for row in multiplication_table:\n",
    "    print(\"  \".join(row))\n"
   ],
   "metadata": {
    "collapsed": false,
    "ExecuteTime": {
     "end_time": "2024-04-10T03:33:43.854366Z",
     "start_time": "2024-04-10T03:33:43.850844Z"
    }
   },
   "id": "2fc7363bc0dce0e1",
   "execution_count": 33
  },
  {
   "cell_type": "code",
   "outputs": [
    {
     "name": "stdout",
     "output_type": "stream",
     "text": [
      "Counting down 1 minutes:\n",
      "Time's up!\n"
     ]
    }
   ],
   "source": [
    "import time\n",
    "\n",
    "def countdown(minutes):\n",
    "    total_seconds = minutes * 60\n",
    "    for remaining_minutes in range(minutes - 1, -1, -1):\n",
    "        for remaining_seconds in range(59, -1, -1):\n",
    "            print(f\"{remaining_minutes:02d}:{remaining_seconds:02d}\", end='\\r')\n",
    "            time.sleep(1)\n",
    "        if remaining_minutes > 0:\n",
    "            print()\n",
    "    print(\"Time's up!\")\n",
    "\n",
    "def main():\n",
    "    try:\n",
    "        minutes = int(input(\"Enter countdown minutes: \"))\n",
    "        if minutes <= 0:\n",
    "            print(\"Please enter a positive number.\")\n",
    "            return\n",
    "        print(f\"Counting down {minutes} minutes:\")\n",
    "        countdown(minutes)\n",
    "    except ValueError:\n",
    "        print(\"Please enter a valid number.\")\n",
    "\n",
    "if __name__ == \"__main__\":\n",
    "    main()\n"
   ],
   "metadata": {
    "collapsed": false,
    "ExecuteTime": {
     "end_time": "2024-04-10T03:40:27.695274Z",
     "start_time": "2024-04-10T03:39:22.879748Z"
    }
   },
   "id": "28173e2eb11c8edf",
   "execution_count": 38
  },
  {
   "cell_type": "markdown",
   "source": [
    "## comprehension list"
   ],
   "metadata": {
    "collapsed": false
   },
   "id": "739b0769e200012a"
  },
  {
   "cell_type": "code",
   "outputs": [
    {
     "name": "stdout",
     "output_type": "stream",
     "text": [
      "[1, 4, 9, 16, 25]\n",
      "{1, 4, 9, 16, 25}\n",
      "{1: 1, 2: 4, 3: 9, 4: 16, 5: 25}\n"
     ]
    }
   ],
   "source": [
    "print([i * i for i in range(1, 6)])\n",
    "print({i * i for i in range(1, 6)})\n",
    "print({i: i * i for i in range(1, 6)})"
   ],
   "metadata": {
    "collapsed": false,
    "ExecuteTime": {
     "end_time": "2024-04-10T03:54:21.103001Z",
     "start_time": "2024-04-10T03:54:21.099127Z"
    }
   },
   "id": "ac73f23cd2a5da1f",
   "execution_count": 40
  },
  {
   "cell_type": "markdown",
   "source": [
    "## 隨堂練習-咖啡大師"
   ],
   "metadata": {
    "collapsed": false
   },
   "id": "5f9b48ecb0c71891"
  },
  {
   "cell_type": "code",
   "outputs": [
    {
     "name": "stdout",
     "output_type": "stream",
     "text": [
      "Poking Lottery:\n",
      "0 1 1 1 1\n",
      "1 1 1 1 0\n",
      "0 1 1 0 1\n",
      "0 0 0 1 1\n",
      "1 1 1 0 0\n",
      "Congratulations!\n",
      "The correct answer:\n",
      "Poking Lottery:\n",
      "0 1 1 1 1\n",
      "1 1 1 1 0\n",
      "0 1 1 0 1\n",
      "0 0 0 1 1\n",
      "1 1 1 0 0\n"
     ]
    }
   ],
   "source": [
    "# 請寫一戳戳樂遊戲有作弊之嫌，因此他希望在公布使用者有沒有中獎後，也把戳戳樂的獎項位置公開透明。\n",
    "\n",
    "import random\n",
    "\n",
    "def display_lottery(lottery):\n",
    "    print(\"Poking Lottery:\")\n",
    "    for row in lottery:\n",
    "        print(\" \".join(map(str, row)))\n",
    "\n",
    "def poking_lottery():\n",
    "    lottery = [[random.randint(0, 1) for i in range(5)]for j in range(5)]\n",
    "    display_lottery(lottery)\n",
    "\n",
    "    row = int(input(\"Enter row number: \"))\n",
    "    col = int(input(\"Enter col number: \"))\n",
    "\n",
    "    if lottery[row][col] == 1:\n",
    "        print(\"Congratulations!\")\n",
    "    else:\n",
    "        print(\"Sorry, you didn't win\")\n",
    "\n",
    "    print(\"The correct answer:\")\n",
    "    display_lottery(lottery)\n",
    "\n",
    "poking_lottery()\n"
   ],
   "metadata": {
    "collapsed": false,
    "ExecuteTime": {
     "end_time": "2024-04-10T04:00:20.944918Z",
     "start_time": "2024-04-10T04:00:16.032933Z"
    }
   },
   "id": "18aa565e82116f5f",
   "execution_count": 42
  }
 ],
 "metadata": {
  "kernelspec": {
   "display_name": "Python 3",
   "language": "python",
   "name": "python3"
  },
  "language_info": {
   "codemirror_mode": {
    "name": "ipython",
    "version": 2
   },
   "file_extension": ".py",
   "mimetype": "text/x-python",
   "name": "python",
   "nbconvert_exporter": "python",
   "pygments_lexer": "ipython2",
   "version": "2.7.6"
  }
 },
 "nbformat": 4,
 "nbformat_minor": 5
}
