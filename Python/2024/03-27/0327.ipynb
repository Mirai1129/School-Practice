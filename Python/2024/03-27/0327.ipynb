{
 "cells": [
  {
   "cell_type": "code",
   "execution_count": 1,
   "id": "initial_id",
   "metadata": {
    "ExecuteTime": {
     "end_time": "2024-03-27T01:27:08.343628Z",
     "start_time": "2024-03-27T01:27:08.333973Z"
    },
    "collapsed": true,
    "jupyter": {
     "outputs_hidden": true
    }
   },
   "outputs": [
    {
     "data": {
      "text/plain": [
       "6"
      ]
     },
     "execution_count": 1,
     "metadata": {},
     "output_type": "execute_result"
    }
   ],
   "source": [
    "len('string')"
   ]
  },
  {
   "cell_type": "code",
   "execution_count": 2,
   "id": "a7901c9ba5b457b",
   "metadata": {
    "ExecuteTime": {
     "end_time": "2024-03-27T01:27:30.479933Z",
     "start_time": "2024-03-27T01:27:30.473305Z"
    },
    "collapsed": false
   },
   "outputs": [
    {
     "data": {
      "text/plain": [
       "2"
      ]
     },
     "execution_count": 2,
     "metadata": {},
     "output_type": "execute_result"
    }
   ],
   "source": [
    "len(['string', 'statement'])"
   ]
  },
  {
   "cell_type": "code",
   "execution_count": 3,
   "id": "396996d310202f09",
   "metadata": {
    "ExecuteTime": {
     "end_time": "2024-03-27T01:28:15.189337Z",
     "start_time": "2024-03-27T01:28:15.179748Z"
    },
    "collapsed": false
   },
   "outputs": [
    {
     "data": {
      "text/plain": [
       "3"
      ]
     },
     "execution_count": 3,
     "metadata": {},
     "output_type": "execute_result"
    }
   ],
   "source": [
    "len({1: 'abc', 2: 'def', 3: '123'})"
   ]
  },
  {
   "cell_type": "code",
   "execution_count": 4,
   "id": "d691d4c38a145e7c",
   "metadata": {
    "ExecuteTime": {
     "end_time": "2024-03-27T01:28:39.174166Z",
     "start_time": "2024-03-27T01:28:39.167165Z"
    },
    "collapsed": false
   },
   "outputs": [],
   "source": [
    "a = [0, 3, 1, 2]"
   ]
  },
  {
   "cell_type": "code",
   "execution_count": 5,
   "id": "4f8efe377c3160a2",
   "metadata": {
    "ExecuteTime": {
     "end_time": "2024-03-27T01:29:03.371840Z",
     "start_time": "2024-03-27T01:29:03.364169Z"
    },
    "collapsed": false
   },
   "outputs": [
    {
     "data": {
      "text/plain": [
       "(3, 0, 1.5)"
      ]
     },
     "execution_count": 5,
     "metadata": {},
     "output_type": "execute_result"
    }
   ],
   "source": [
    "max(a), min(a), sum(a) / len(a)"
   ]
  },
  {
   "cell_type": "code",
   "execution_count": 6,
   "id": "56bafc36e6362698",
   "metadata": {
    "ExecuteTime": {
     "end_time": "2024-03-27T01:29:31.411953Z",
     "start_time": "2024-03-27T01:29:31.407730Z"
    },
    "collapsed": false
   },
   "outputs": [],
   "source": [
    "d = {1: 4, 2: 5, 3: 6}"
   ]
  },
  {
   "cell_type": "code",
   "execution_count": 7,
   "id": "3ba854be6f8616ef",
   "metadata": {
    "ExecuteTime": {
     "end_time": "2024-03-27T01:29:50.410172Z",
     "start_time": "2024-03-27T01:29:50.399602Z"
    },
    "collapsed": false
   },
   "outputs": [
    {
     "data": {
      "text/plain": [
       "(3, 1, 6)"
      ]
     },
     "execution_count": 7,
     "metadata": {},
     "output_type": "execute_result"
    }
   ],
   "source": [
    "max(d), min(d), sum(d)"
   ]
  },
  {
   "cell_type": "code",
   "execution_count": 8,
   "id": "795869a6fa8e661c",
   "metadata": {
    "ExecuteTime": {
     "end_time": "2024-03-27T01:33:59.368733Z",
     "start_time": "2024-03-27T01:33:48.175644Z"
    },
    "collapsed": false
   },
   "outputs": [
    {
     "name": "stdout",
     "output_type": "stream",
     "text": [
      "Is this order free shipping? True\n"
     ]
    }
   ],
   "source": [
    "order = input(\"Enter the amount of goods, separated by a comma: \")\n",
    "nums = eval(\"len([\" + order + \"])\")\n",
    "total = eval(\"sum([\" + order + \"])\")\n",
    "ans = total > 299 and nums <= 6\n",
    "print(\"Is this order free shipping?\", ans)"
   ]
  },
  {
   "cell_type": "markdown",
   "id": "becafbfe55f7cfd8",
   "metadata": {
    "collapsed": false
   },
   "source": [
    "## practice 1"
   ]
  },
  {
   "cell_type": "code",
   "execution_count": 38,
   "id": "508527eeae2d434b",
   "metadata": {
    "collapsed": false,
    "ExecuteTime": {
     "end_time": "2024-03-27T02:12:04.045158Z",
     "start_time": "2024-03-27T02:11:54.321177Z"
    }
   },
   "outputs": [
    {
     "name": "stdout",
     "output_type": "stream",
     "text": [
      "The package is allowed.\n"
     ]
    }
   ],
   "source": [
    "# 某快遞公司要寄送包裹有以下規定：包裹總重量不得超過20公斤、包裹任一邊長不得超過150公分，\n",
    "# 請寫一個程式，能讓使用者輸入包裹的長、寬、高級各個物品的重量，並判斷此包裹是否能夠寄出。\n",
    "\n",
    "package = input(\"Enter the length, width, height and weight of the package(separated by a comma): \")\n",
    "length, width, height, weight = map(float, package.split(','))\n",
    "if length > 150 or width > 150 or height > 150:\n",
    "    print(\"The package length must shorter than 150cm.\")\n",
    "if weight > 20:\n",
    "    print(\"The package weight must lighter than 20kg.\")\n",
    "if length <= 150 and width <= 150 and height <= 150 and weight <= 20:\n",
    "    print(\"The package is allowed.\")\n"
   ]
  },
  {
   "cell_type": "markdown",
   "id": "cc4da9ca28551dd0",
   "metadata": {
    "collapsed": false
   },
   "source": [
    "## practice 2"
   ]
  },
  {
   "cell_type": "code",
   "execution_count": 72,
   "id": "a98a10078572bd2d",
   "metadata": {
    "collapsed": false,
    "ExecuteTime": {
     "end_time": "2024-03-27T03:19:52.497412Z",
     "start_time": "2024-03-27T03:19:44.312033Z"
    }
   },
   "outputs": [
    {
     "name": "stdout",
     "output_type": "stream",
     "text": [
      "Day1: 30.0\n",
      "Day2: 50.0\n",
      "Day3: 90.0\n"
     ]
    },
    {
     "data": {
      "text/plain": "[None, None, None]"
     },
     "execution_count": 72,
     "metadata": {},
     "output_type": "execute_result"
    }
   ],
   "source": [
    "# 小宇有記帳的習慣，他會把每一餐的花費記錄下來，\n",
    "# 請幫他寫一個程式，能夠分別輸入一天三餐的花費，並將費用從小到大排序好在顯示出來。\n",
    "\n",
    "costs = sorted(map(float, input(\"Enter the cost of three days (separated by a comma): \").split(',')))\n",
    "[print(f\"Day{i + 1}: {cost}\") for i, cost in enumerate(costs)]\n"
   ]
  },
  {
   "cell_type": "code",
   "outputs": [],
   "source": [
    "my_list = ['v', 'a', 'k', 'abc']"
   ],
   "metadata": {
    "collapsed": false,
    "ExecuteTime": {
     "end_time": "2024-03-27T02:15:24.649190Z",
     "start_time": "2024-03-27T02:15:24.642369Z"
    }
   },
   "id": "4c7fd6e668e0e3c0",
   "execution_count": 42
  },
  {
   "cell_type": "code",
   "outputs": [],
   "source": [
    "new_list = sorted(my_list)"
   ],
   "metadata": {
    "collapsed": false,
    "ExecuteTime": {
     "end_time": "2024-03-27T02:15:34.184477Z",
     "start_time": "2024-03-27T02:15:34.177623Z"
    }
   },
   "id": "b227a4e399f06177",
   "execution_count": 43
  },
  {
   "cell_type": "code",
   "outputs": [
    {
     "data": {
      "text/plain": "['a', 'abc', 'k', 'v']"
     },
     "execution_count": 44,
     "metadata": {},
     "output_type": "execute_result"
    }
   ],
   "source": [
    "new_list"
   ],
   "metadata": {
    "collapsed": false,
    "ExecuteTime": {
     "end_time": "2024-03-27T02:15:42.804008Z",
     "start_time": "2024-03-27T02:15:42.795902Z"
    }
   },
   "id": "d67ea1dd2aa54420",
   "execution_count": 44
  },
  {
   "cell_type": "code",
   "outputs": [
    {
     "data": {
      "text/plain": "['v', 'a', 'k', 'abc']"
     },
     "execution_count": 45,
     "metadata": {},
     "output_type": "execute_result"
    }
   ],
   "source": [
    "my_list"
   ],
   "metadata": {
    "collapsed": false,
    "ExecuteTime": {
     "end_time": "2024-03-27T02:15:50.028547Z",
     "start_time": "2024-03-27T02:15:50.020461Z"
    }
   },
   "id": "a56e3e171d8d9e26",
   "execution_count": 45
  },
  {
   "cell_type": "code",
   "outputs": [],
   "source": [
    "my_list.sort()"
   ],
   "metadata": {
    "collapsed": false,
    "ExecuteTime": {
     "end_time": "2024-03-27T02:15:57.638849Z",
     "start_time": "2024-03-27T02:15:57.633232Z"
    }
   },
   "id": "7fd95f0203dd5e3b",
   "execution_count": 46
  },
  {
   "cell_type": "code",
   "outputs": [
    {
     "data": {
      "text/plain": "['a', 'abc', 'k', 'v']"
     },
     "execution_count": 48,
     "metadata": {},
     "output_type": "execute_result"
    }
   ],
   "source": [
    "my_list"
   ],
   "metadata": {
    "collapsed": false,
    "ExecuteTime": {
     "end_time": "2024-03-27T02:16:06.079491Z",
     "start_time": "2024-03-27T02:16:06.071863Z"
    }
   },
   "id": "d658e7868ff2055d",
   "execution_count": 48
  },
  {
   "cell_type": "code",
   "outputs": [],
   "source": [
    "my_list.reverse()"
   ],
   "metadata": {
    "collapsed": false,
    "ExecuteTime": {
     "end_time": "2024-03-27T02:16:17.395660Z",
     "start_time": "2024-03-27T02:16:17.389798Z"
    }
   },
   "id": "3d860a9d2cfc1422",
   "execution_count": 49
  },
  {
   "cell_type": "code",
   "outputs": [
    {
     "data": {
      "text/plain": "['v', 'k', 'abc', 'a']"
     },
     "execution_count": 50,
     "metadata": {},
     "output_type": "execute_result"
    }
   ],
   "source": [
    "my_list"
   ],
   "metadata": {
    "collapsed": false,
    "ExecuteTime": {
     "end_time": "2024-03-27T02:16:23.924907Z",
     "start_time": "2024-03-27T02:16:23.915935Z"
    }
   },
   "id": "9de695571016395a",
   "execution_count": 50
  },
  {
   "cell_type": "code",
   "outputs": [],
   "source": [],
   "metadata": {
    "collapsed": false
   },
   "id": "53988f5c74e95608"
  },
  {
   "cell_type": "markdown",
   "source": [
    "## practice 3"
   ],
   "metadata": {
    "collapsed": false
   },
   "id": "eadb656a179e4fd8"
  },
  {
   "cell_type": "code",
   "outputs": [
    {
     "name": "stdout",
     "output_type": "stream",
     "text": [
      "Original bookshelf: ['book1', 'book2', 'book3']\n",
      "Invalid position. The position should be between 1 and 4\n"
     ]
    }
   ],
   "source": [
    "# 愛讀書的阿詠買了本新書，他想把這本書放進書架上，\n",
    "# 請問他的程式該如何寫，才能選擇要把新書插入書架的第幾個位置並且輸出最新的書架排序狀況?\n",
    "\n",
    "bookshelf = ['book1', 'book2', 'book3']\n",
    "\n",
    "print(f\"Original bookshelf: {bookshelf}\")\n",
    "\n",
    "new_book = input(\"Enter the name of the new book: \")\n",
    "insert_position = int(input(\"Enter the position to insert the new book: \")) - 1\n",
    "\n",
    "if 0 <= insert_position <= len(bookshelf):\n",
    "    bookshelf.insert(insert_position, new_book)\n",
    "    print(f\"Updated bookshelf: {bookshelf}\")\n",
    "else:\n",
    "    print(f\"Invalid position. The position should be between 1 and {len(bookshelf) + 1}\")\n"
   ],
   "metadata": {
    "collapsed": false,
    "ExecuteTime": {
     "end_time": "2024-03-27T02:21:59.703434Z",
     "start_time": "2024-03-27T02:21:55.451820Z"
    }
   },
   "id": "d363106aa77b976d",
   "execution_count": 53
  },
  {
   "cell_type": "code",
   "outputs": [],
   "source": [
    "a = [0, 1, 2, 3]"
   ],
   "metadata": {
    "collapsed": false,
    "ExecuteTime": {
     "end_time": "2024-03-27T02:25:20.548337Z",
     "start_time": "2024-03-27T02:25:20.543338Z"
    }
   },
   "id": "ed65959cadb17d59",
   "execution_count": 54
  },
  {
   "cell_type": "code",
   "outputs": [],
   "source": [
    "b = a"
   ],
   "metadata": {
    "collapsed": false,
    "ExecuteTime": {
     "end_time": "2024-03-27T02:25:24.200803Z",
     "start_time": "2024-03-27T02:25:24.192867Z"
    }
   },
   "id": "8a20e4ba324b6cae",
   "execution_count": 55
  },
  {
   "cell_type": "code",
   "outputs": [],
   "source": [
    "b[0] = 'abc'"
   ],
   "metadata": {
    "collapsed": false,
    "ExecuteTime": {
     "end_time": "2024-03-27T02:25:35.917839Z",
     "start_time": "2024-03-27T02:25:35.912513Z"
    }
   },
   "id": "35a34c6ab385bf4e",
   "execution_count": 56
  },
  {
   "cell_type": "code",
   "outputs": [
    {
     "data": {
      "text/plain": "['abc', 1, 2, 3]"
     },
     "execution_count": 57,
     "metadata": {},
     "output_type": "execute_result"
    }
   ],
   "source": [
    "a"
   ],
   "metadata": {
    "collapsed": false,
    "ExecuteTime": {
     "end_time": "2024-03-27T02:25:44.038296Z",
     "start_time": "2024-03-27T02:25:44.030949Z"
    }
   },
   "id": "7dcb36172c9b5dda",
   "execution_count": 57
  },
  {
   "cell_type": "code",
   "outputs": [],
   "source": [
    "a = [0, 1, 2, 3]"
   ],
   "metadata": {
    "collapsed": false,
    "ExecuteTime": {
     "end_time": "2024-03-27T02:25:58.521673Z",
     "start_time": "2024-03-27T02:25:58.514747Z"
    }
   },
   "id": "2bfeb5bc50f8bd98",
   "execution_count": 58
  },
  {
   "cell_type": "code",
   "outputs": [],
   "source": [
    "b = a.copy()"
   ],
   "metadata": {
    "collapsed": false,
    "ExecuteTime": {
     "end_time": "2024-03-27T02:26:09.814090Z",
     "start_time": "2024-03-27T02:26:09.808673Z"
    }
   },
   "id": "d311daf28d825524",
   "execution_count": 59
  },
  {
   "cell_type": "code",
   "outputs": [],
   "source": [
    "b[0] = 'abc'"
   ],
   "metadata": {
    "collapsed": false,
    "ExecuteTime": {
     "end_time": "2024-03-27T02:26:21.034401Z",
     "start_time": "2024-03-27T02:26:21.028987Z"
    }
   },
   "id": "7f77f056092cc945",
   "execution_count": 60
  },
  {
   "cell_type": "code",
   "outputs": [
    {
     "data": {
      "text/plain": "[0, 1, 2, 3]"
     },
     "execution_count": 61,
     "metadata": {},
     "output_type": "execute_result"
    }
   ],
   "source": [
    "a"
   ],
   "metadata": {
    "collapsed": false,
    "ExecuteTime": {
     "end_time": "2024-03-27T02:26:23.223970Z",
     "start_time": "2024-03-27T02:26:23.214984Z"
    }
   },
   "id": "f50541f32102b54e",
   "execution_count": 61
  },
  {
   "cell_type": "code",
   "outputs": [
    {
     "data": {
      "text/plain": "['abc', 1, 2, 3]"
     },
     "execution_count": 62,
     "metadata": {},
     "output_type": "execute_result"
    }
   ],
   "source": [
    "b"
   ],
   "metadata": {
    "collapsed": false,
    "ExecuteTime": {
     "end_time": "2024-03-27T02:26:26.425325Z",
     "start_time": "2024-03-27T02:26:26.414966Z"
    }
   },
   "id": "8ae944cc96d0ba9d",
   "execution_count": 62
  },
  {
   "cell_type": "code",
   "outputs": [],
   "source": [
    "t = ('a', 'b', 'c', 'd', 'd')"
   ],
   "metadata": {
    "collapsed": false,
    "ExecuteTime": {
     "end_time": "2024-03-27T02:26:49.814346Z",
     "start_time": "2024-03-27T02:26:49.807937Z"
    }
   },
   "id": "f672c9cea6c153b8",
   "execution_count": 63
  },
  {
   "cell_type": "code",
   "outputs": [
    {
     "data": {
      "text/plain": "2"
     },
     "execution_count": 64,
     "metadata": {},
     "output_type": "execute_result"
    }
   ],
   "source": [
    "t.count('d')"
   ],
   "metadata": {
    "collapsed": false,
    "ExecuteTime": {
     "end_time": "2024-03-27T02:26:57.890277Z",
     "start_time": "2024-03-27T02:26:57.881987Z"
    }
   },
   "id": "d5c1c14715b9a6a0",
   "execution_count": 64
  },
  {
   "cell_type": "code",
   "outputs": [
    {
     "data": {
      "text/plain": "3"
     },
     "execution_count": 65,
     "metadata": {},
     "output_type": "execute_result"
    }
   ],
   "source": [
    "t.index('d')"
   ],
   "metadata": {
    "collapsed": false,
    "ExecuteTime": {
     "end_time": "2024-03-27T02:27:12.986799Z",
     "start_time": "2024-03-27T02:27:12.978632Z"
    }
   },
   "id": "3f52c4b009b81476",
   "execution_count": 65
  },
  {
   "cell_type": "code",
   "outputs": [
    {
     "name": "stdout",
     "output_type": "stream",
     "text": [
      "Valid input. The password meets the requirements.\n"
     ]
    }
   ],
   "source": [
    "# 請設計一個程式讓使用者輸入5碼數字，而且每一個數字都不能重複，程式會檢查使用者輸入的密碼是否有符合規則。\n",
    "\n",
    "numbers = input(\"Enter the number: \").strip()\n",
    "\n",
    "if len(numbers) != 5:\n",
    "    print(\"Invalid input. Please enter exactly 5 digits.\")\n",
    "else:\n",
    "    if len(set(numbers)) != len(numbers):\n",
    "        print(\"Invalid input. Digits cannot be repeated.\")\n",
    "    else:\n",
    "        print(\"Valid input. The password meets the requirements.\")\n"
   ],
   "metadata": {
    "collapsed": false,
    "ExecuteTime": {
     "end_time": "2024-03-27T02:43:34.365770Z",
     "start_time": "2024-03-27T02:43:31.598514Z"
    }
   },
   "id": "4fc43531b89c59a4",
   "execution_count": 71
  },
  {
   "cell_type": "code",
   "outputs": [
    {
     "name": "stdout",
     "output_type": "stream",
     "text": [
      "good morning what\n"
     ]
    }
   ],
   "source": [
    "a = \"what\"\n",
    "print(f\"good morning {a}\")"
   ],
   "metadata": {
    "collapsed": false,
    "ExecuteTime": {
     "end_time": "2024-03-27T03:29:09.251646Z",
     "start_time": "2024-03-27T03:29:09.241028Z"
    }
   },
   "id": "cec756074858b5d9",
   "execution_count": 73
  },
  {
   "cell_type": "markdown",
   "source": [
    "## practice 4"
   ],
   "metadata": {
    "collapsed": false
   },
   "id": "b959741b49dd0f3"
  },
  {
   "cell_type": "code",
   "outputs": [
    {
     "name": "stdout",
     "output_type": "stream",
     "text": [
      "Amount in USD: 0.525\n",
      "Amount in JPY: 56.699999999999996\n",
      "Amount in CNY: 3.45\n"
     ]
    }
   ],
   "source": [
    "# 請寫一支程式，只要輸入台幣金額，就能自動換算可以兌換多少美金、日幣和人民幣。\n",
    "\n",
    "def exchange_rates(amount_twd):\n",
    "    usd_rate = 0.035\n",
    "    jpy_rate = 3.78\n",
    "    cny_rate = 0.23\n",
    "\n",
    "    amount_usd = amount_twd * usd_rate\n",
    "    amount_jpy = amount_twd * jpy_rate\n",
    "    amount_cny = amount_twd * cny_rate\n",
    "\n",
    "    return amount_usd, amount_jpy, amount_cny\n",
    "\n",
    "\n",
    "amount_twd = float(input(\"Enter the amount in TWD: \"))\n",
    "amount_usd, amount_jpy, amount_cny = exchange_rates(amount_twd)\n",
    "\n",
    "print(f\"Amount in USD: {amount_usd}\")\n",
    "print(f\"Amount in JPY: {amount_jpy}\")\n",
    "print(f\"Amount in CNY: {amount_cny}\")\n"
   ],
   "metadata": {
    "collapsed": false,
    "ExecuteTime": {
     "end_time": "2024-03-27T03:31:20.809396Z",
     "start_time": "2024-03-27T03:31:18.618132Z"
    }
   },
   "id": "18ed6fdfab6e48f4",
   "execution_count": 74
  },
  {
   "cell_type": "markdown",
   "source": [
    "## practice 5"
   ],
   "metadata": {
    "collapsed": false
   },
   "id": "c07c3ff80c767077"
  },
  {
   "cell_type": "code",
   "outputs": [
    {
     "name": "stdout",
     "output_type": "stream",
     "text": [
      "\n",
      "題目：  1221\n",
      "     739\n",
      " +   482\n",
      "---------\n",
      "\n",
      "\n",
      "答案：\n",
      "     739\n",
      " +   482\n",
      "---------\n",
      "    1221\n"
     ]
    }
   ],
   "source": [
    "v1 = int(input(\"請輸入被加數：\"))\n",
    "v2 = int(input(\"請輸入相加數：\"))\n",
    "\n",
    "print(f\"\\n題目：{v1 + v2:>6}\")\n",
    "print(f\"   {v1:>5}\")\n",
    "print(f\" + {v2:>5}\")\n",
    "print('-' * 9)\n",
    "print()\n",
    "\n",
    "print(\"\\n答案：\")\n",
    "print(f\"   {v1:>5}\")\n",
    "print(f\" + {v2:>5}\")\n",
    "print('-' * 9)\n",
    "print(f\"  {v1 + v2:>6}\")"
   ],
   "metadata": {
    "collapsed": false,
    "ExecuteTime": {
     "end_time": "2024-03-27T03:37:28.624321Z",
     "start_time": "2024-03-27T03:37:20.890349Z"
    }
   },
   "id": "adf8a5671c0ea3c",
   "execution_count": 75
  },
  {
   "cell_type": "code",
   "outputs": [
    {
     "name": "stdout",
     "output_type": "stream",
     "text": [
      "價格: 59.20\n"
     ]
    }
   ],
   "source": [
    "print(\"%s:%6.2f\" % ('價格', 59.2))"
   ],
   "metadata": {
    "collapsed": false,
    "ExecuteTime": {
     "end_time": "2024-03-27T03:38:34.325311Z",
     "start_time": "2024-03-27T03:38:34.317472Z"
    }
   },
   "id": "dfe8fc29508b4dff",
   "execution_count": 76
  }
 ],
 "metadata": {
  "kernelspec": {
   "display_name": "Python 3 (ipykernel)",
   "language": "python",
   "name": "python3"
  },
  "language_info": {
   "codemirror_mode": {
    "name": "ipython",
    "version": 3
   },
   "file_extension": ".py",
   "mimetype": "text/x-python",
   "name": "python",
   "nbconvert_exporter": "python",
   "pygments_lexer": "ipython3",
   "version": "3.11.6"
  }
 },
 "nbformat": 4,
 "nbformat_minor": 5
}
