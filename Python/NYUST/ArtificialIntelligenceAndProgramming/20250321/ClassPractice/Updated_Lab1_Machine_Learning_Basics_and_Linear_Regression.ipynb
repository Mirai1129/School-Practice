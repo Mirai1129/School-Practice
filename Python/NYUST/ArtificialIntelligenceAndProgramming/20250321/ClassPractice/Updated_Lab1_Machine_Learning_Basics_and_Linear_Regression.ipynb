{
 "cells": [
  {
   "cell_type": "code",
   "execution_count": null,
   "id": "720dc4e5",
   "metadata": {},
   "outputs": [],
   "source": [
    "from sklearn.linear_model import LinearRegression\n",
    "from sklearn.model_selection import train_test_split\n",
    "from sklearn.datasets import fetch_california_housing\n",
    "import pandas as pd\n",
    "\n",
    "# 加載加州房價數據集\n",
    "house_value = fetch_california_housing()\n",
    "X = pd.DataFrame(house_value.data, columns=house_value.feature_names)\n",
    "y = house_value.target\n",
    "\n",
    "X_train, X_test, y_train, y_test = train_test_split(X, y, test_size=0.3, random_state=420)\n",
    "\n",
    "# 重新設定索引，避免視覺化時混亂\n",
    "for i in [X_train, X_test]:\n",
    "    i.index = range(i.shape[0])\n"
   ]
  },
  {
   "cell_type": "markdown",
   "id": "757fa42f",
   "metadata": {},
   "source": [
    "### 訓練線性回歸模型並檢視係數"
   ]
  },
  {
   "cell_type": "code",
   "execution_count": null,
   "id": "846d2bc3",
   "metadata": {},
   "outputs": [],
   "source": [
    "# 訓練線性回歸模型\n",
    "reg = LinearRegression().fit(X_train, y_train)\n",
    "yhat = reg.predict(X_test)\n",
    "\n",
    "# 取得回歸係數與截距\n",
    "coef = reg.coef_\n",
    "intercept = reg.intercept_\n",
    "\n",
    "# 顯示特徵與對應係數\n",
    "compare = pd.DataFrame({\"Feature\": X_train.columns, \"Coefficient\": coef})\n",
    "compare\n"
   ]
  },
  {
   "cell_type": "markdown",
   "id": "3fd7aeb6",
   "metadata": {},
   "source": [
    "### 模型評估：均方誤差 (MSE)"
   ]
  },
  {
   "cell_type": "code",
   "execution_count": null,
   "id": "cc0994b8",
   "metadata": {},
   "outputs": [],
   "source": [
    "\n",
    "from sklearn.metrics import mean_squared_error\n",
    "\n",
    "mse = mean_squared_error(y_test, yhat)\n",
    "print(f\"均方誤差 (MSE): {mse:.4f}\")\n"
   ]
  },
  {
   "cell_type": "markdown",
   "id": "7efb69e6",
   "metadata": {},
   "source": [
    "## 3. 預測結果視覺化"
   ]
  },
  {
   "cell_type": "code",
   "execution_count": null,
   "id": "938b551f",
   "metadata": {},
   "outputs": [],
   "source": [
    "\n",
    "import matplotlib.pyplot as plt\n",
    "\n",
    "# 圖1: 實際值 vs 預測值\n",
    "plt.figure(figsize=(10, 5))\n",
    "plt.scatter(y_test, yhat, color=\"blue\", alpha=0.5, label=\"Predicted vs Actual\")\n",
    "plt.plot([y_test.min(), y_test.max()], [y_test.min(), y_test.max()], \"r--\", lw=2, label=\"Ideal Fit\")\n",
    "plt.xlabel(\"Actual House Value\")\n",
    "plt.ylabel(\"Predicted House Value\")\n",
    "plt.title(\"Actual vs. Predicted House Value\")\n",
    "plt.legend()\n",
    "plt.show()\n",
    "\n",
    "# 圖2: 殘差圖 (Residual Plot)\n",
    "residuals = y_test - yhat\n",
    "\n",
    "plt.figure(figsize=(10, 5))\n",
    "plt.scatter(yhat, residuals, color=\"purple\", alpha=0.5)\n",
    "plt.axhline(y=0, color=\"r\", linestyle=\"--\", lw=2)\n",
    "plt.xlabel(\"Predicted House Value\")\n",
    "plt.ylabel(\"Residuals\")\n",
    "plt.title(\"Residual Plot\")\n",
    "plt.show()\n"
   ]
  }
 ],
 "metadata": {
  "language_info": {
   "name": "python"
  }
 },
 "nbformat": 4,
 "nbformat_minor": 5
}
